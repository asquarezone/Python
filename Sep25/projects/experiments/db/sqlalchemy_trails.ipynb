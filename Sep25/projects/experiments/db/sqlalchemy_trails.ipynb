{
 "cells": [
  {
   "cell_type": "code",
   "execution_count": 1,
   "id": "2d6579e3",
   "metadata": {},
   "outputs": [],
   "source": [
    "# Define URL\n",
    "DB_URL = \"sqlite:///example.db\""
   ]
  },
  {
   "cell_type": "code",
   "execution_count": 2,
   "id": "163b0747",
   "metadata": {},
   "outputs": [],
   "source": [
    "# create engine\n",
    "from sqlalchemy import create_engine\n",
    "engine = create_engine(url=DB_URL, echo=True)"
   ]
  },
  {
   "cell_type": "code",
   "execution_count": 3,
   "id": "ecb21b35",
   "metadata": {},
   "outputs": [],
   "source": [
    "# Create Base\n",
    "from sqlalchemy.orm import mapped_column, Mapped, DeclarativeBase\n",
    "\n",
    "class Base(DeclarativeBase): pass"
   ]
  },
  {
   "cell_type": "code",
   "execution_count": 4,
   "id": "1638040c",
   "metadata": {},
   "outputs": [],
   "source": [
    "# Define Models\n",
    "from sqlalchemy import String, Integer, DateTime, ForeignKey\n",
    "class Student(Base):\n",
    "    __tablename__ = \"students\"\n",
    "\n",
    "    id: Mapped[int] = mapped_column(primary_key=True, autoincrement=True)\n",
    "    name: Mapped[str] = mapped_column(String(100), nullable=False)\n",
    "    mobile: Mapped[str] = mapped_column(String(10), nullable=False)\n",
    "    email: Mapped[str] = mapped_column(String(100), nullable=False)\n",
    "    description: Mapped[str] = mapped_column(String(100), nullable=True)"
   ]
  },
  {
   "cell_type": "code",
   "execution_count": 5,
   "id": "5dc24126",
   "metadata": {},
   "outputs": [],
   "source": [
    "class Faculty(Base):\n",
    "    __tablename__ = \"faculties\"\n",
    "\n",
    "    id: Mapped[int] = mapped_column(primary_key=True, autoincrement=True)\n",
    "    name: Mapped[str] = mapped_column(String(100), nullable=False)\n",
    "    mobile: Mapped[str] = mapped_column(String(10), nullable=False)\n",
    "    email: Mapped[str] = mapped_column(String(100), nullable=False)\n",
    "    description: Mapped[str] = mapped_column(String(100), nullable=True)"
   ]
  },
  {
   "cell_type": "code",
   "execution_count": 19,
   "id": "44e85784",
   "metadata": {},
   "outputs": [
    {
     "name": "stdout",
     "output_type": "stream",
     "text": [
      "2025-10-23 09:25:48,171 INFO sqlalchemy.engine.Engine BEGIN (implicit)\n",
      "2025-10-23 09:25:48,172 INFO sqlalchemy.engine.Engine PRAGMA main.table_info(\"students\")\n",
      "2025-10-23 09:25:48,173 INFO sqlalchemy.engine.Engine [raw sql] ()\n",
      "2025-10-23 09:25:48,175 INFO sqlalchemy.engine.Engine PRAGMA main.table_info(\"faculties\")\n",
      "2025-10-23 09:25:48,176 INFO sqlalchemy.engine.Engine [raw sql] ()\n",
      "2025-10-23 09:25:48,177 INFO sqlalchemy.engine.Engine COMMIT\n"
     ]
    }
   ],
   "source": [
    "# create tables if they do not exist\n",
    "Base.metadata.create_all(bind=engine)"
   ]
  },
  {
   "cell_type": "code",
   "execution_count": 20,
   "id": "619c4984",
   "metadata": {},
   "outputs": [
    {
     "name": "stdout",
     "output_type": "stream",
     "text": [
      "2025-10-23 09:30:12,724 INFO sqlalchemy.engine.Engine BEGIN (implicit)\n",
      "2025-10-23 09:30:12,731 INFO sqlalchemy.engine.Engine INSERT INTO students (name, mobile, email, description) VALUES (?, ?, ?, ?) RETURNING id\n",
      "2025-10-23 09:30:12,733 INFO sqlalchemy.engine.Engine [generated in 0.00026s (insertmanyvalues) 1/2 (ordered; batch not supported)] ('std1', '9999999', 'std1@gmail.com', None)\n",
      "2025-10-23 09:30:12,738 INFO sqlalchemy.engine.Engine INSERT INTO students (name, mobile, email, description) VALUES (?, ?, ?, ?) RETURNING id\n",
      "2025-10-23 09:30:12,741 INFO sqlalchemy.engine.Engine [insertmanyvalues 2/2 (ordered; batch not supported)] ('std2', '9999999', 'std2@gmail.com', None)\n",
      "2025-10-23 09:30:12,746 INFO sqlalchemy.engine.Engine COMMIT\n"
     ]
    }
   ],
   "source": [
    "from sqlalchemy.orm import Session\n",
    "\n",
    "with Session(engine) as session:\n",
    "    student1 = Student(name='std1', mobile='9999999', email='std1@gmail.com')\n",
    "    session.add(student1)\n",
    "    student2 = Student(name='std2', mobile='9999999', email='std2@gmail.com')\n",
    "    session.add(student2)\n",
    "\n",
    "    session.commit()"
   ]
  },
  {
   "cell_type": "code",
   "execution_count": 24,
   "id": "2eecb918",
   "metadata": {},
   "outputs": [
    {
     "name": "stdout",
     "output_type": "stream",
     "text": [
      "2025-10-23 09:34:14,818 INFO sqlalchemy.engine.Engine BEGIN (implicit)\n",
      "2025-10-23 09:34:14,828 INFO sqlalchemy.engine.Engine SELECT students.id, students.name, students.mobile, students.email, students.description \n",
      "FROM students\n",
      "2025-10-23 09:34:14,829 INFO sqlalchemy.engine.Engine [cached since 126.8s ago] ()\n",
      "std1\n",
      "std2\n",
      "2025-10-23 09:34:18,923 INFO sqlalchemy.engine.Engine SELECT students.id, students.name, students.mobile, students.email, students.description \n",
      "FROM students \n",
      "WHERE students.name = ?\n",
      "2025-10-23 09:34:18,929 INFO sqlalchemy.engine.Engine [cached since 28.22s ago] ('std2',)\n",
      "std2@gmail.com\n",
      "2025-10-23 09:34:31,769 INFO sqlalchemy.engine.Engine ROLLBACK\n"
     ]
    }
   ],
   "source": [
    "# Get all students\n",
    "from sqlalchemy import select\n",
    "with Session(engine) as session:\n",
    "    # Get all\n",
    "    students = session.scalars(select(Student)).all()\n",
    "    for student in students:\n",
    "        print(student.name)\n",
    "\n",
    "    # filter\n",
    "    stmt = select(Student).where(Student.name == \"std2\")\n",
    "    student = session.scalar(stmt)\n",
    "    print(student.email)\n",
    "    "
   ]
  }
 ],
 "metadata": {
  "kernelspec": {
   "display_name": "experiments",
   "language": "python",
   "name": "python3"
  },
  "language_info": {
   "codemirror_mode": {
    "name": "ipython",
    "version": 3
   },
   "file_extension": ".py",
   "mimetype": "text/x-python",
   "name": "python",
   "nbconvert_exporter": "python",
   "pygments_lexer": "ipython3",
   "version": "3.13.5"
  }
 },
 "nbformat": 4,
 "nbformat_minor": 5
}

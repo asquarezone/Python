{
 "cells": [
  {
   "cell_type": "code",
   "execution_count": 9,
   "id": "8dbde913",
   "metadata": {},
   "outputs": [],
   "source": [
    "x = 'imstring'\n",
    "y = \"imalsostring\"\n",
    "# multi-line strings\n",
    "z = '''mee \n",
    "too'''\n",
    "u = \"\"\"\n",
    "mee \n",
    "too.....\n",
    "\"\"\""
   ]
  },
  {
   "cell_type": "code",
   "execution_count": 10,
   "id": "6b70c068",
   "metadata": {},
   "outputs": [
    {
     "name": "stdout",
     "output_type": "stream",
     "text": [
      "\n",
      "mee \n",
      "too.....\n",
      "\n"
     ]
    }
   ],
   "source": [
    "print(u)"
   ]
  },
  {
   "cell_type": "code",
   "execution_count": 14,
   "id": "47656a7b",
   "metadata": {},
   "outputs": [],
   "source": [
    "word = 'madaM'"
   ]
  },
  {
   "cell_type": "code",
   "execution_count": 15,
   "id": "ca55258b",
   "metadata": {},
   "outputs": [
    {
     "data": {
      "text/plain": [
       "'m'"
      ]
     },
     "execution_count": 15,
     "metadata": {},
     "output_type": "execute_result"
    }
   ],
   "source": [
    "word[0]"
   ]
  },
  {
   "cell_type": "code",
   "execution_count": 16,
   "id": "db1cdcab",
   "metadata": {},
   "outputs": [
    {
     "data": {
      "text/plain": [
       "'M'"
      ]
     },
     "execution_count": 16,
     "metadata": {},
     "output_type": "execute_result"
    }
   ],
   "source": [
    "word[-1]"
   ]
  },
  {
   "cell_type": "code",
   "execution_count": 19,
   "id": "3e9e7982",
   "metadata": {},
   "outputs": [
    {
     "data": {
      "text/plain": [
       "True"
      ]
     },
     "execution_count": 19,
     "metadata": {},
     "output_type": "execute_result"
    }
   ],
   "source": [
    "# checking for pallendrome\n",
    "word = 'madam'\n",
    "\n",
    "word == word[::-1]"
   ]
  },
  {
   "cell_type": "code",
   "execution_count": 21,
   "id": "c5da15cd",
   "metadata": {},
   "outputs": [],
   "source": [
    "name = \"dev\"\n",
    "age = 24\n",
    "qualification = 'btech'"
   ]
  },
  {
   "cell_type": "code",
   "execution_count": 22,
   "id": "823f57a1",
   "metadata": {},
   "outputs": [
    {
     "data": {
      "text/plain": [
       "'hellohai'"
      ]
     },
     "execution_count": 22,
     "metadata": {},
     "output_type": "execute_result"
    }
   ],
   "source": [
    "\"hello\" + \"hai\""
   ]
  },
  {
   "cell_type": "code",
   "execution_count": 24,
   "id": "c7448839",
   "metadata": {},
   "outputs": [
    {
     "data": {
      "text/plain": [
       "'hello my name is dev my qualification is btech'"
      ]
     },
     "execution_count": 24,
     "metadata": {},
     "output_type": "execute_result"
    }
   ],
   "source": [
    "# String interpolation\n",
    "\n",
    "# hello my name is .., my qualification is ...\n",
    "\"hello my name is \"+ name +  \" my qualification is \" + qualification"
   ]
  },
  {
   "cell_type": "code",
   "execution_count": null,
   "id": "3a5c1a73",
   "metadata": {},
   "outputs": [
    {
     "data": {
      "text/plain": [
       "'hello my name is dev, my qualification is btech'"
      ]
     },
     "execution_count": 25,
     "metadata": {},
     "output_type": "execute_result"
    }
   ],
   "source": [
    "# f-strings\n",
    "f\"hello my name is {name}, my qualification is {qualification}\""
   ]
  },
  {
   "cell_type": "code",
   "execution_count": 27,
   "id": "38615733",
   "metadata": {},
   "outputs": [],
   "source": [
    "x = 'name,test,1'"
   ]
  },
  {
   "cell_type": "code",
   "execution_count": 28,
   "id": "41a433ea",
   "metadata": {},
   "outputs": [
    {
     "data": {
      "text/plain": [
       "['name', 'test', '1']"
      ]
     },
     "execution_count": 28,
     "metadata": {},
     "output_type": "execute_result"
    }
   ],
   "source": [
    "x.split(',')"
   ]
  },
  {
   "cell_type": "code",
   "execution_count": 29,
   "id": "ca0fe894",
   "metadata": {},
   "outputs": [
    {
     "data": {
      "text/plain": [
       "'white,black'"
      ]
     },
     "execution_count": 29,
     "metadata": {},
     "output_type": "execute_result"
    }
   ],
   "source": [
    "colors = ['white', 'black']\n",
    "\",\".join(colors)"
   ]
  },
  {
   "cell_type": "code",
   "execution_count": 30,
   "id": "7172e103",
   "metadata": {},
   "outputs": [],
   "source": [
    "x = 'python'"
   ]
  },
  {
   "cell_type": "code",
   "execution_count": 31,
   "id": "eabadd5e",
   "metadata": {},
   "outputs": [
    {
     "data": {
      "text/plain": [
       "'PYTHON'"
      ]
     },
     "execution_count": 31,
     "metadata": {},
     "output_type": "execute_result"
    }
   ],
   "source": [
    "x.upper()"
   ]
  },
  {
   "cell_type": "code",
   "execution_count": 32,
   "id": "dfd9a342",
   "metadata": {},
   "outputs": [
    {
     "data": {
      "text/plain": [
       "'python'"
      ]
     },
     "execution_count": 32,
     "metadata": {},
     "output_type": "execute_result"
    }
   ],
   "source": [
    "x.lower()"
   ]
  },
  {
   "cell_type": "code",
   "execution_count": 33,
   "id": "052c9b23",
   "metadata": {},
   "outputs": [
    {
     "data": {
      "text/plain": [
       "'Python'"
      ]
     },
     "execution_count": 33,
     "metadata": {},
     "output_type": "execute_result"
    }
   ],
   "source": [
    "x.capitalize()"
   ]
  },
  {
   "cell_type": "code",
   "execution_count": 34,
   "id": "02df3390",
   "metadata": {},
   "outputs": [],
   "source": [
    "x = 'madam'\n",
    "y = 'Madam'"
   ]
  },
  {
   "cell_type": "code",
   "execution_count": 35,
   "id": "6ae7bd2d",
   "metadata": {},
   "outputs": [
    {
     "data": {
      "text/plain": [
       "False"
      ]
     },
     "execution_count": 35,
     "metadata": {},
     "output_type": "execute_result"
    }
   ],
   "source": [
    "x == y"
   ]
  },
  {
   "cell_type": "code",
   "execution_count": 36,
   "id": "1cbdf30c",
   "metadata": {},
   "outputs": [
    {
     "data": {
      "text/plain": [
       "True"
      ]
     },
     "execution_count": 36,
     "metadata": {},
     "output_type": "execute_result"
    }
   ],
   "source": [
    "x.lower() == y.lower()"
   ]
  },
  {
   "cell_type": "code",
   "execution_count": 37,
   "id": "09400f45",
   "metadata": {},
   "outputs": [
    {
     "data": {
      "text/plain": [
       "True"
      ]
     },
     "execution_count": 37,
     "metadata": {},
     "output_type": "execute_result"
    }
   ],
   "source": [
    "x = [1,2,3,4,5]\n",
    "1 in x"
   ]
  },
  {
   "cell_type": "code",
   "execution_count": 38,
   "id": "6d3aba52",
   "metadata": {},
   "outputs": [
    {
     "data": {
      "text/plain": [
       "True"
      ]
     },
     "execution_count": 38,
     "metadata": {},
     "output_type": "execute_result"
    }
   ],
   "source": [
    "'m' in 'Madam'"
   ]
  },
  {
   "cell_type": "code",
   "execution_count": 39,
   "id": "86c63a41",
   "metadata": {},
   "outputs": [
    {
     "data": {
      "text/plain": [
       "False"
      ]
     },
     "execution_count": 39,
     "metadata": {},
     "output_type": "execute_result"
    }
   ],
   "source": [
    "'=' in 'Madam'"
   ]
  },
  {
   "cell_type": "code",
   "execution_count": 40,
   "id": "b9755648",
   "metadata": {},
   "outputs": [],
   "source": [
    "x = \"            madam             \"\n",
    "y = \"#####madam######\""
   ]
  },
  {
   "cell_type": "code",
   "execution_count": 41,
   "id": "94906531",
   "metadata": {},
   "outputs": [
    {
     "data": {
      "text/plain": [
       "'            madam             '"
      ]
     },
     "execution_count": 41,
     "metadata": {},
     "output_type": "execute_result"
    }
   ],
   "source": [
    "x"
   ]
  },
  {
   "cell_type": "code",
   "execution_count": 42,
   "id": "0060fa57",
   "metadata": {},
   "outputs": [
    {
     "data": {
      "text/plain": [
       "'madam'"
      ]
     },
     "execution_count": 42,
     "metadata": {},
     "output_type": "execute_result"
    }
   ],
   "source": [
    "x.strip()"
   ]
  },
  {
   "cell_type": "code",
   "execution_count": 43,
   "id": "199c84be",
   "metadata": {},
   "outputs": [
    {
     "data": {
      "text/plain": [
       "'madam             '"
      ]
     },
     "execution_count": 43,
     "metadata": {},
     "output_type": "execute_result"
    }
   ],
   "source": [
    "x.lstrip()"
   ]
  },
  {
   "cell_type": "code",
   "execution_count": 44,
   "id": "d6b5d695",
   "metadata": {},
   "outputs": [
    {
     "data": {
      "text/plain": [
       "'            madam'"
      ]
     },
     "execution_count": 44,
     "metadata": {},
     "output_type": "execute_result"
    }
   ],
   "source": [
    "x.rstrip()"
   ]
  },
  {
   "cell_type": "code",
   "execution_count": 45,
   "id": "19fd8b0b",
   "metadata": {},
   "outputs": [
    {
     "data": {
      "text/plain": [
       "'#####madam######'"
      ]
     },
     "execution_count": 45,
     "metadata": {},
     "output_type": "execute_result"
    }
   ],
   "source": [
    "y"
   ]
  },
  {
   "cell_type": "code",
   "execution_count": 46,
   "id": "72421eee",
   "metadata": {},
   "outputs": [
    {
     "data": {
      "text/plain": [
       "'#####madam######'"
      ]
     },
     "execution_count": 46,
     "metadata": {},
     "output_type": "execute_result"
    }
   ],
   "source": [
    "y.strip()"
   ]
  },
  {
   "cell_type": "code",
   "execution_count": 47,
   "id": "4243b897",
   "metadata": {},
   "outputs": [
    {
     "data": {
      "text/plain": [
       "'madam'"
      ]
     },
     "execution_count": 47,
     "metadata": {},
     "output_type": "execute_result"
    }
   ],
   "source": [
    "y.strip('#')"
   ]
  },
  {
   "cell_type": "code",
   "execution_count": 48,
   "id": "50e8ddf1",
   "metadata": {},
   "outputs": [
    {
     "ename": "SyntaxError",
     "evalue": "unterminated string literal (detected at line 3) (3070284834.py, line 3)",
     "output_type": "error",
     "traceback": [
      "  \u001b[36mCell\u001b[39m\u001b[36m \u001b[39m\u001b[32mIn[48]\u001b[39m\u001b[32m, line 3\u001b[39m\n\u001b[31m    \u001b[39m\u001b[31mmessage = 'I'm doing good'\u001b[39m\n                             ^\n\u001b[31mSyntaxError\u001b[39m\u001b[31m:\u001b[39m unterminated string literal (detected at line 3)\n"
     ]
    }
   ],
   "source": [
    "# Escape sequences\n",
    "\n",
    "message = 'I'm doing good'"
   ]
  },
  {
   "cell_type": "code",
   "execution_count": 53,
   "id": "107bbb54",
   "metadata": {},
   "outputs": [
    {
     "data": {
      "text/plain": [
       "\"I'm doing good\""
      ]
     },
     "execution_count": 53,
     "metadata": {},
     "output_type": "execute_result"
    }
   ],
   "source": [
    "message = 'I\\'m doing good'\n",
    "message"
   ]
  },
  {
   "cell_type": "code",
   "execution_count": 49,
   "id": "aa14d807",
   "metadata": {},
   "outputs": [
    {
     "data": {
      "text/plain": [
       "\"I'm doing good\""
      ]
     },
     "execution_count": 49,
     "metadata": {},
     "output_type": "execute_result"
    }
   ],
   "source": [
    "message = \"I'm doing good\"\n",
    "message"
   ]
  },
  {
   "cell_type": "code",
   "execution_count": 50,
   "id": "1d3f9ef9",
   "metadata": {},
   "outputs": [
    {
     "ename": "SyntaxError",
     "evalue": "unterminated string literal (detected at line 1) (360708716.py, line 1)",
     "output_type": "error",
     "traceback": [
      "  \u001b[36mCell\u001b[39m\u001b[36m \u001b[39m\u001b[32mIn[50]\u001b[39m\u001b[32m, line 1\u001b[39m\n\u001b[31m    \u001b[39m\u001b[31mmessage = \"I\"m doing good\"\u001b[39m\n                             ^\n\u001b[31mSyntaxError\u001b[39m\u001b[31m:\u001b[39m unterminated string literal (detected at line 1)\n"
     ]
    }
   ],
   "source": [
    "message = \"I\"m doing good\""
   ]
  },
  {
   "cell_type": "code",
   "execution_count": 55,
   "id": "e1c4fe4f",
   "metadata": {},
   "outputs": [
    {
     "data": {
      "text/plain": [
       "'I\"m doing good'"
      ]
     },
     "execution_count": 55,
     "metadata": {},
     "output_type": "execute_result"
    }
   ],
   "source": [
    "message = \"I\\\"m doing good\"\n",
    "message"
   ]
  },
  {
   "cell_type": "code",
   "execution_count": 52,
   "id": "89b1fe5f",
   "metadata": {},
   "outputs": [
    {
     "data": {
      "text/plain": [
       "'I\"m doing good'"
      ]
     },
     "execution_count": 52,
     "metadata": {},
     "output_type": "execute_result"
    }
   ],
   "source": [
    "message = 'I\"m doing good'\n",
    "message"
   ]
  },
  {
   "cell_type": "code",
   "execution_count": 57,
   "id": "275aaec7",
   "metadata": {},
   "outputs": [
    {
     "name": "stdout",
     "output_type": "stream",
     "text": [
      "hello how are you\n",
      "im\t doing good\n"
     ]
    }
   ],
   "source": [
    "message = \"hello how are you\\nim\\t doing good\"\n",
    "print(message)"
   ]
  },
  {
   "cell_type": "code",
   "execution_count": 63,
   "id": "a4fe5242",
   "metadata": {},
   "outputs": [
    {
     "name": "stdout",
     "output_type": "stream",
     "text": [
      "/etc/service/test\n",
      "C:\temp\n",
      "C:\\temp\n",
      "C:\\temp\n"
     ]
    }
   ],
   "source": [
    "# folder paths\n",
    "linux_path = \"/etc/service/test\"\n",
    "print(linux_path)\n",
    "windows_path = \"C:\\temp\"\n",
    "print(windows_path)\n",
    "windows_path = \"C:\\\\temp\"\n",
    "print(windows_path)\n",
    "windows_path = r\"C:\\temp\"\n",
    "print(windows_path)"
   ]
  }
 ],
 "metadata": {
  "kernelspec": {
   "display_name": "Python 3",
   "language": "python",
   "name": "python3"
  },
  "language_info": {
   "codemirror_mode": {
    "name": "ipython",
    "version": 3
   },
   "file_extension": ".py",
   "mimetype": "text/x-python",
   "name": "python",
   "nbconvert_exporter": "python",
   "pygments_lexer": "ipython3",
   "version": "3.11.9"
  }
 },
 "nbformat": 4,
 "nbformat_minor": 5
}

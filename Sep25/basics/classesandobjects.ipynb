{
 "cells": [
  {
   "cell_type": "code",
   "execution_count": null,
   "id": "1f70f1f3",
   "metadata": {},
   "outputs": [],
   "source": [
    "# defining class\n",
    "class BankAccount:\n",
    "    pass"
   ]
  },
  {
   "cell_type": "code",
   "execution_count": 5,
   "id": "de9ad235",
   "metadata": {},
   "outputs": [],
   "source": [
    "# creating object (instantiation)\n",
    "b1 = BankAccount()\n",
    "b2 = BankAccount()"
   ]
  },
  {
   "cell_type": "code",
   "execution_count": 6,
   "id": "12cee53e",
   "metadata": {},
   "outputs": [],
   "source": [
    "## initialization\n",
    "\n",
    "class BankAccount:\n",
    "    def __init__(self):\n",
    "        \"\"\"initializer\"\"\"\n",
    "        self.id:str = \"\"\n",
    "        self.balance: float = 0\n",
    "        self.email: str = \"\""
   ]
  },
  {
   "cell_type": "code",
   "execution_count": 8,
   "id": "393081a7",
   "metadata": {},
   "outputs": [
    {
     "name": "stdout",
     "output_type": "stream",
     "text": [
      "0\n"
     ]
    }
   ],
   "source": [
    "b1 = BankAccount()\n",
    "\n",
    "print(b1.balance)"
   ]
  },
  {
   "cell_type": "code",
   "execution_count": 9,
   "id": "5fb6f4a1",
   "metadata": {},
   "outputs": [],
   "source": [
    "## initialization\n",
    "\n",
    "class BankAccount:\n",
    "    def __init__(self, id:str, balance: float, email:str):\n",
    "        \"\"\"initializer\"\"\"\n",
    "        self.id:str = id\n",
    "        self.balance: float = balance\n",
    "        self.email: str = email"
   ]
  },
  {
   "cell_type": "code",
   "execution_count": null,
   "id": "81b9dc7f",
   "metadata": {},
   "outputs": [],
   "source": [
    "b1 = BankAccount(\"b1001\", 100000, 'testb1@gmail.com')"
   ]
  },
  {
   "cell_type": "code",
   "execution_count": 11,
   "id": "b4c0a052",
   "metadata": {},
   "outputs": [
    {
     "data": {
      "text/plain": [
       "'b1001'"
      ]
     },
     "execution_count": 11,
     "metadata": {},
     "output_type": "execute_result"
    }
   ],
   "source": [
    "b1.id"
   ]
  },
  {
   "cell_type": "code",
   "execution_count": 12,
   "id": "79f60068",
   "metadata": {},
   "outputs": [
    {
     "data": {
      "text/plain": [
       "100000"
      ]
     },
     "execution_count": 12,
     "metadata": {},
     "output_type": "execute_result"
    }
   ],
   "source": [
    "b1.balance"
   ]
  },
  {
   "cell_type": "code",
   "execution_count": 13,
   "id": "c1ee3981",
   "metadata": {},
   "outputs": [
    {
     "data": {
      "text/plain": [
       "'testb1@gmail.com'"
      ]
     },
     "execution_count": 13,
     "metadata": {},
     "output_type": "execute_result"
    }
   ],
   "source": [
    "b1.email"
   ]
  },
  {
   "cell_type": "code",
   "execution_count": null,
   "id": "eda137bf",
   "metadata": {},
   "outputs": [],
   "source": [
    "## add methods\n",
    "\n",
    "class BankAccount:\n",
    "    def __init__(self, id:str, balance: float, email:str):\n",
    "        \"\"\"initializer\"\"\"\n",
    "        self.id:str = id\n",
    "        self.balance: float = balance\n",
    "        self.email: str = email\n",
    "    \n",
    "    def deposit(self, amount:float) -> None:\n",
    "        self.balance += amount\n",
    "\n",
    "    def withdraw(self, amount: float) -> None:\n",
    "        self.balance -= amount\n",
    "\n",
    "    def transfer(self, to: BankAccount, amount: float) -> None:\n",
    "        self.balance -= amount\n",
    "        to.balance += amount"
   ]
  },
  {
   "cell_type": "code",
   "execution_count": 23,
   "id": "0c17749e",
   "metadata": {},
   "outputs": [],
   "source": [
    "p1 = BankAccount(id=\"B1001\", balance=1000000, email='b1@gmail.com')\n",
    "s1 = BankAccount(id=\"B1002\", balance=100000000, email=\"s1@gmail.com\")"
   ]
  },
  {
   "cell_type": "code",
   "execution_count": 18,
   "id": "d82cd23d",
   "metadata": {},
   "outputs": [
    {
     "data": {
      "text/plain": [
       "1000000"
      ]
     },
     "execution_count": 18,
     "metadata": {},
     "output_type": "execute_result"
    }
   ],
   "source": [
    "p1.balance"
   ]
  },
  {
   "cell_type": "code",
   "execution_count": 19,
   "id": "64824aec",
   "metadata": {},
   "outputs": [
    {
     "data": {
      "text/plain": [
       "100000000"
      ]
     },
     "execution_count": 19,
     "metadata": {},
     "output_type": "execute_result"
    }
   ],
   "source": [
    "s1.balance"
   ]
  },
  {
   "cell_type": "code",
   "execution_count": 25,
   "id": "73b19152",
   "metadata": {},
   "outputs": [],
   "source": [
    "s1.transfer(to=p1, amount=100000)"
   ]
  },
  {
   "cell_type": "code",
   "execution_count": 21,
   "id": "740e5cbd",
   "metadata": {},
   "outputs": [
    {
     "data": {
      "text/plain": [
       "1100000"
      ]
     },
     "execution_count": 21,
     "metadata": {},
     "output_type": "execute_result"
    }
   ],
   "source": [
    "p1.balance"
   ]
  },
  {
   "cell_type": "code",
   "execution_count": 22,
   "id": "0452e98e",
   "metadata": {},
   "outputs": [
    {
     "data": {
      "text/plain": [
       "99900000"
      ]
     },
     "execution_count": 22,
     "metadata": {},
     "output_type": "execute_result"
    }
   ],
   "source": [
    "s1.balance"
   ]
  },
  {
   "cell_type": "code",
   "execution_count": 28,
   "id": "f9b16a9b",
   "metadata": {},
   "outputs": [],
   "source": [
    "class GameUser:\n",
    "    def __init__(self, username: str, coins: int):\n",
    "        self.username = username\n",
    "        self.coins = coins\n",
    "\n",
    "    def play_game(self):\n",
    "        self.coins += 10\n",
    "\n",
    "    def purchase_coins(self, count: int):\n",
    "        self.coins += count\n",
    "\n",
    "    def lend_coins(self, to:GameUser, count: int):\n",
    "        self.coins -= count\n",
    "        to.coins += count"
   ]
  },
  {
   "cell_type": "code",
   "execution_count": 29,
   "id": "ff24867b",
   "metadata": {},
   "outputs": [],
   "source": [
    "u1 = GameUser(username=\"user1\", coins=10000)\n",
    "u2 = GameUser(username=\"user2\", coins=10000)"
   ]
  },
  {
   "cell_type": "code",
   "execution_count": 30,
   "id": "b7fa558f",
   "metadata": {},
   "outputs": [
    {
     "data": {
      "text/plain": [
       "10000"
      ]
     },
     "execution_count": 30,
     "metadata": {},
     "output_type": "execute_result"
    }
   ],
   "source": [
    "u1.coins"
   ]
  },
  {
   "cell_type": "code",
   "execution_count": 31,
   "id": "aa6ea025",
   "metadata": {},
   "outputs": [],
   "source": [
    "u1.play_game()"
   ]
  },
  {
   "cell_type": "code",
   "execution_count": 32,
   "id": "1b1dd5de",
   "metadata": {},
   "outputs": [
    {
     "data": {
      "text/plain": [
       "10010"
      ]
     },
     "execution_count": 32,
     "metadata": {},
     "output_type": "execute_result"
    }
   ],
   "source": [
    "u1.coins"
   ]
  },
  {
   "cell_type": "code",
   "execution_count": 33,
   "id": "bfd9145c",
   "metadata": {},
   "outputs": [],
   "source": [
    "u1.purchase_coins(1000)"
   ]
  },
  {
   "cell_type": "code",
   "execution_count": 34,
   "id": "1b5841e0",
   "metadata": {},
   "outputs": [
    {
     "data": {
      "text/plain": [
       "11010"
      ]
     },
     "execution_count": 34,
     "metadata": {},
     "output_type": "execute_result"
    }
   ],
   "source": [
    "u1.coins"
   ]
  },
  {
   "cell_type": "code",
   "execution_count": 35,
   "id": "8a48eaee",
   "metadata": {},
   "outputs": [
    {
     "data": {
      "text/plain": [
       "10000"
      ]
     },
     "execution_count": 35,
     "metadata": {},
     "output_type": "execute_result"
    }
   ],
   "source": [
    "u2.coins"
   ]
  },
  {
   "cell_type": "code",
   "execution_count": 36,
   "id": "36adbd78",
   "metadata": {},
   "outputs": [],
   "source": [
    "u2.lend_coins(u1, 99)"
   ]
  },
  {
   "cell_type": "code",
   "execution_count": 37,
   "id": "d2d032db",
   "metadata": {},
   "outputs": [
    {
     "data": {
      "text/plain": [
       "9901"
      ]
     },
     "execution_count": 37,
     "metadata": {},
     "output_type": "execute_result"
    }
   ],
   "source": [
    "u2.coins"
   ]
  },
  {
   "cell_type": "code",
   "execution_count": 38,
   "id": "2ae33c54",
   "metadata": {},
   "outputs": [
    {
     "data": {
      "text/plain": [
       "11109"
      ]
     },
     "execution_count": 38,
     "metadata": {},
     "output_type": "execute_result"
    }
   ],
   "source": [
    "u1.coins"
   ]
  },
  {
   "cell_type": "code",
   "execution_count": 39,
   "id": "96dcbda3",
   "metadata": {},
   "outputs": [],
   "source": [
    "class Anything:\n",
    "    pass"
   ]
  },
  {
   "cell_type": "code",
   "execution_count": 40,
   "id": "9933a3fb",
   "metadata": {},
   "outputs": [],
   "source": [
    "a = Anything()"
   ]
  },
  {
   "cell_type": "code",
   "execution_count": 41,
   "id": "f6ae28ae",
   "metadata": {},
   "outputs": [
    {
     "data": {
      "text/plain": [
       "'<__main__.Anything object at 0x000001D4CE93A9D0>'"
      ]
     },
     "execution_count": 41,
     "metadata": {},
     "output_type": "execute_result"
    }
   ],
   "source": [
    "a.__str__()"
   ]
  },
  {
   "cell_type": "code",
   "execution_count": 42,
   "id": "dc457950",
   "metadata": {},
   "outputs": [],
   "source": [
    "class Animal:\n",
    "    def make_sound(self) -> str:\n",
    "        return \"get-lost\""
   ]
  },
  {
   "cell_type": "code",
   "execution_count": 43,
   "id": "aca39095",
   "metadata": {},
   "outputs": [
    {
     "data": {
      "text/plain": [
       "'get-lost'"
      ]
     },
     "execution_count": 43,
     "metadata": {},
     "output_type": "execute_result"
    }
   ],
   "source": [
    "a = Animal()\n",
    "a.make_sound()"
   ]
  },
  {
   "cell_type": "code",
   "execution_count": 44,
   "id": "85d3a0ee",
   "metadata": {},
   "outputs": [],
   "source": [
    "# Dog is Animal -> inheritence\n",
    "class Dog(Animal):\n",
    "    pass"
   ]
  },
  {
   "cell_type": "code",
   "execution_count": 45,
   "id": "4cc9076e",
   "metadata": {},
   "outputs": [
    {
     "data": {
      "text/plain": [
       "'get-lost'"
      ]
     },
     "execution_count": 45,
     "metadata": {},
     "output_type": "execute_result"
    }
   ],
   "source": [
    "d = Dog()\n",
    "d.make_sound()"
   ]
  },
  {
   "cell_type": "code",
   "execution_count": null,
   "id": "0a648c28",
   "metadata": {},
   "outputs": [],
   "source": [
    "## overriding \n",
    "\n",
    "class Cat(Animal):\n",
    "    def make_sound(self):\n",
    "        #return super().make_sound()\n",
    "        return \"me..........ow\""
   ]
  },
  {
   "cell_type": "code",
   "execution_count": 47,
   "id": "3f19a7bc",
   "metadata": {},
   "outputs": [
    {
     "data": {
      "text/plain": [
       "'me..........ow'"
      ]
     },
     "execution_count": 47,
     "metadata": {},
     "output_type": "execute_result"
    }
   ],
   "source": [
    "c = Cat()\n",
    "c.make_sound()"
   ]
  },
  {
   "cell_type": "code",
   "execution_count": 48,
   "id": "6d2eefed",
   "metadata": {},
   "outputs": [],
   "source": [
    "class BankAccount:\n",
    "    def __init__(self, balance, id,rate_of_intrest):\n",
    "        self.balance = balance\n",
    "        self.id = id\n",
    "        self.rate_of_intrest = rate_of_intrest\n",
    "\n",
    "    def transfer(self, to, amount):\n",
    "        self.balance -= amount\n",
    "        to.balance  += amount"
   ]
  },
  {
   "cell_type": "code",
   "execution_count": 49,
   "id": "f9a4c4c4",
   "metadata": {},
   "outputs": [],
   "source": [
    "class SavingsBankAccount(BankAccount):\n",
    "\n",
    "    def transfer(self, to, amount):\n",
    "        if amount > 50000:\n",
    "            print(\"Not possible\")\n",
    "        return super().transfer(to, amount)"
   ]
  },
  {
   "cell_type": "code",
   "execution_count": 50,
   "id": "13f12039",
   "metadata": {},
   "outputs": [],
   "source": [
    "class CurrentBankAccount(BankAccount):\n",
    "    pass"
   ]
  },
  {
   "cell_type": "code",
   "execution_count": 51,
   "id": "f00d6f24",
   "metadata": {},
   "outputs": [],
   "source": [
    "a = SavingsBankAccount(balance=100000, id=\"1\", rate_of_intrest=4)\n",
    "c = CurrentBankAccount(balance=1000000, id=\"2\", rate_of_intrest=0)"
   ]
  },
  {
   "cell_type": "code",
   "execution_count": 52,
   "id": "711de453",
   "metadata": {},
   "outputs": [
    {
     "data": {
      "text/plain": [
       "100000"
      ]
     },
     "execution_count": 52,
     "metadata": {},
     "output_type": "execute_result"
    }
   ],
   "source": [
    "a.balance"
   ]
  },
  {
   "cell_type": "code",
   "execution_count": 53,
   "id": "60a39a31",
   "metadata": {},
   "outputs": [
    {
     "data": {
      "text/plain": [
       "1000000"
      ]
     },
     "execution_count": 53,
     "metadata": {},
     "output_type": "execute_result"
    }
   ],
   "source": [
    "c.balance"
   ]
  },
  {
   "cell_type": "code",
   "execution_count": 54,
   "id": "6d8e2cef",
   "metadata": {},
   "outputs": [],
   "source": [
    "c.transfer(a, 10000)"
   ]
  },
  {
   "cell_type": "code",
   "execution_count": 55,
   "id": "9d1d6931",
   "metadata": {},
   "outputs": [
    {
     "data": {
      "text/plain": [
       "110000"
      ]
     },
     "execution_count": 55,
     "metadata": {},
     "output_type": "execute_result"
    }
   ],
   "source": [
    "a.balance"
   ]
  },
  {
   "cell_type": "code",
   "execution_count": 56,
   "id": "2796ea5c",
   "metadata": {},
   "outputs": [
    {
     "data": {
      "text/plain": [
       "990000"
      ]
     },
     "execution_count": 56,
     "metadata": {},
     "output_type": "execute_result"
    }
   ],
   "source": [
    "c.balance"
   ]
  },
  {
   "cell_type": "code",
   "execution_count": 57,
   "id": "cd0e1275",
   "metadata": {},
   "outputs": [
    {
     "name": "stdout",
     "output_type": "stream",
     "text": [
      "Not possible\n"
     ]
    }
   ],
   "source": [
    "a.transfer(c, amount=1000000)"
   ]
  }
 ],
 "metadata": {
  "kernelspec": {
   "display_name": "Python 3",
   "language": "python",
   "name": "python3"
  },
  "language_info": {
   "codemirror_mode": {
    "name": "ipython",
    "version": 3
   },
   "file_extension": ".py",
   "mimetype": "text/x-python",
   "name": "python",
   "nbconvert_exporter": "python",
   "pygments_lexer": "ipython3",
   "version": "3.11.9"
  }
 },
 "nbformat": 4,
 "nbformat_minor": 5
}

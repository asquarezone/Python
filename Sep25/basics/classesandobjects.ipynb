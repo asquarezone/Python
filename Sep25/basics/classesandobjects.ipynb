{
 "cells": [
  {
   "cell_type": "code",
   "execution_count": 1,
   "id": "1f70f1f3",
   "metadata": {},
   "outputs": [],
   "source": [
    "# defining class\n",
    "class BankAccount:\n",
    "    pass"
   ]
  },
  {
   "cell_type": "code",
   "execution_count": 2,
   "id": "de9ad235",
   "metadata": {},
   "outputs": [],
   "source": [
    "# creating object (instantiation)\n",
    "b1 = BankAccount()\n",
    "b2 = BankAccount()"
   ]
  },
  {
   "cell_type": "code",
   "execution_count": 3,
   "id": "12cee53e",
   "metadata": {},
   "outputs": [],
   "source": [
    "## initialization\n",
    "\n",
    "class BankAccount:\n",
    "    def __init__(self):\n",
    "        \"\"\"initializer\"\"\"\n",
    "        self.id:str = \"\"\n",
    "        self.balance: float = 0\n",
    "        self.email: str = \"\""
   ]
  },
  {
   "cell_type": "code",
   "execution_count": 4,
   "id": "393081a7",
   "metadata": {},
   "outputs": [
    {
     "name": "stdout",
     "output_type": "stream",
     "text": [
      "0\n"
     ]
    }
   ],
   "source": [
    "b1 = BankAccount()\n",
    "\n",
    "print(b1.balance)"
   ]
  },
  {
   "cell_type": "code",
   "execution_count": 5,
   "id": "5fb6f4a1",
   "metadata": {},
   "outputs": [],
   "source": [
    "## initialization\n",
    "\n",
    "class BankAccount:\n",
    "    def __init__(self, id:str, balance: float, email:str):\n",
    "        \"\"\"initializer\"\"\"\n",
    "        self.id:str = id\n",
    "        self.balance: float = balance\n",
    "        self.email: str = email"
   ]
  },
  {
   "cell_type": "code",
   "execution_count": 6,
   "id": "81b9dc7f",
   "metadata": {},
   "outputs": [],
   "source": [
    "b1 = BankAccount(\"b1001\", 100000, 'testb1@gmail.com')"
   ]
  },
  {
   "cell_type": "code",
   "execution_count": 7,
   "id": "b4c0a052",
   "metadata": {},
   "outputs": [
    {
     "data": {
      "text/plain": [
       "'b1001'"
      ]
     },
     "execution_count": 7,
     "metadata": {},
     "output_type": "execute_result"
    }
   ],
   "source": [
    "b1.id"
   ]
  },
  {
   "cell_type": "code",
   "execution_count": 8,
   "id": "79f60068",
   "metadata": {},
   "outputs": [
    {
     "data": {
      "text/plain": [
       "100000"
      ]
     },
     "execution_count": 8,
     "metadata": {},
     "output_type": "execute_result"
    }
   ],
   "source": [
    "b1.balance"
   ]
  },
  {
   "cell_type": "code",
   "execution_count": 9,
   "id": "c1ee3981",
   "metadata": {},
   "outputs": [
    {
     "data": {
      "text/plain": [
       "'testb1@gmail.com'"
      ]
     },
     "execution_count": 9,
     "metadata": {},
     "output_type": "execute_result"
    }
   ],
   "source": [
    "b1.email"
   ]
  },
  {
   "cell_type": "code",
   "execution_count": 10,
   "id": "eda137bf",
   "metadata": {},
   "outputs": [],
   "source": [
    "## add methods\n",
    "\n",
    "class BankAccount:\n",
    "    def __init__(self, id:str, balance: float, email:str):\n",
    "        \"\"\"initializer\"\"\"\n",
    "        self.id:str = id\n",
    "        self.balance: float = balance\n",
    "        self.email: str = email\n",
    "    \n",
    "    def deposit(self, amount:float) -> None:\n",
    "        self.balance += amount\n",
    "\n",
    "    def withdraw(self, amount: float) -> None:\n",
    "        self.balance -= amount\n",
    "\n",
    "    def transfer(self, to: BankAccount, amount: float) -> None:\n",
    "        self.balance -= amount\n",
    "        to.balance += amount"
   ]
  },
  {
   "cell_type": "code",
   "execution_count": 11,
   "id": "0c17749e",
   "metadata": {},
   "outputs": [],
   "source": [
    "p1 = BankAccount(id=\"B1001\", balance=1000000, email='b1@gmail.com')\n",
    "s1 = BankAccount(id=\"B1002\", balance=100000000, email=\"s1@gmail.com\")"
   ]
  },
  {
   "cell_type": "code",
   "execution_count": 12,
   "id": "d82cd23d",
   "metadata": {},
   "outputs": [
    {
     "data": {
      "text/plain": [
       "1000000"
      ]
     },
     "execution_count": 12,
     "metadata": {},
     "output_type": "execute_result"
    }
   ],
   "source": [
    "p1.balance"
   ]
  },
  {
   "cell_type": "code",
   "execution_count": 13,
   "id": "64824aec",
   "metadata": {},
   "outputs": [
    {
     "data": {
      "text/plain": [
       "100000000"
      ]
     },
     "execution_count": 13,
     "metadata": {},
     "output_type": "execute_result"
    }
   ],
   "source": [
    "s1.balance"
   ]
  },
  {
   "cell_type": "code",
   "execution_count": 14,
   "id": "73b19152",
   "metadata": {},
   "outputs": [],
   "source": [
    "s1.transfer(to=p1, amount=100000)"
   ]
  },
  {
   "cell_type": "code",
   "execution_count": 15,
   "id": "740e5cbd",
   "metadata": {},
   "outputs": [
    {
     "data": {
      "text/plain": [
       "1100000"
      ]
     },
     "execution_count": 15,
     "metadata": {},
     "output_type": "execute_result"
    }
   ],
   "source": [
    "p1.balance"
   ]
  },
  {
   "cell_type": "code",
   "execution_count": 16,
   "id": "0452e98e",
   "metadata": {},
   "outputs": [
    {
     "data": {
      "text/plain": [
       "99900000"
      ]
     },
     "execution_count": 16,
     "metadata": {},
     "output_type": "execute_result"
    }
   ],
   "source": [
    "s1.balance"
   ]
  },
  {
   "cell_type": "code",
   "execution_count": 17,
   "id": "f9b16a9b",
   "metadata": {},
   "outputs": [
    {
     "ename": "NameError",
     "evalue": "name 'GameUser' is not defined",
     "output_type": "error",
     "traceback": [
      "\u001b[31m---------------------------------------------------------------------------\u001b[39m",
      "\u001b[31mNameError\u001b[39m                                 Traceback (most recent call last)",
      "\u001b[36mCell\u001b[39m\u001b[36m \u001b[39m\u001b[32mIn[17]\u001b[39m\u001b[32m, line 1\u001b[39m\n\u001b[32m----> \u001b[39m\u001b[32m1\u001b[39m \u001b[38;5;28;43;01mclass\u001b[39;49;00m\u001b[38;5;250;43m \u001b[39;49m\u001b[34;43;01mGameUser\u001b[39;49;00m\u001b[43m:\u001b[49m\n\u001b[32m      2\u001b[39m \u001b[43m    \u001b[49m\u001b[38;5;28;43;01mdef\u001b[39;49;00m\u001b[38;5;250;43m \u001b[39;49m\u001b[34;43m__init__\u001b[39;49m\u001b[43m(\u001b[49m\u001b[38;5;28;43mself\u001b[39;49m\u001b[43m,\u001b[49m\u001b[43m \u001b[49m\u001b[43musername\u001b[49m\u001b[43m:\u001b[49m\u001b[43m \u001b[49m\u001b[38;5;28;43mstr\u001b[39;49m\u001b[43m,\u001b[49m\u001b[43m \u001b[49m\u001b[43mcoins\u001b[49m\u001b[43m:\u001b[49m\u001b[43m \u001b[49m\u001b[38;5;28;43mint\u001b[39;49m\u001b[43m)\u001b[49m\u001b[43m:\u001b[49m\n\u001b[32m      3\u001b[39m \u001b[43m        \u001b[49m\u001b[38;5;28;43mself\u001b[39;49m\u001b[43m.\u001b[49m\u001b[43musername\u001b[49m\u001b[43m \u001b[49m\u001b[43m=\u001b[49m\u001b[43m \u001b[49m\u001b[43musername\u001b[49m\n",
      "\u001b[36mCell\u001b[39m\u001b[36m \u001b[39m\u001b[32mIn[17]\u001b[39m\u001b[32m, line 12\u001b[39m, in \u001b[36mGameUser\u001b[39m\u001b[34m()\u001b[39m\n\u001b[32m      9\u001b[39m \u001b[38;5;28;01mdef\u001b[39;00m\u001b[38;5;250m \u001b[39m\u001b[34mpurchase_coins\u001b[39m(\u001b[38;5;28mself\u001b[39m, count: \u001b[38;5;28mint\u001b[39m):\n\u001b[32m     10\u001b[39m     \u001b[38;5;28mself\u001b[39m.coins += count\n\u001b[32m---> \u001b[39m\u001b[32m12\u001b[39m \u001b[38;5;28;01mdef\u001b[39;00m\u001b[38;5;250m \u001b[39m\u001b[34mlend_coins\u001b[39m(\u001b[38;5;28mself\u001b[39m, to:\u001b[43mGameUser\u001b[49m, count: \u001b[38;5;28mint\u001b[39m):\n\u001b[32m     13\u001b[39m     \u001b[38;5;28mself\u001b[39m.coins -= count\n\u001b[32m     14\u001b[39m     to.coins += count\n",
      "\u001b[31mNameError\u001b[39m: name 'GameUser' is not defined"
     ]
    }
   ],
   "source": [
    "class GameUser:\n",
    "    def __init__(self, username: str, coins: int):\n",
    "        self.username = username\n",
    "        self.coins = coins\n",
    "\n",
    "    def play_game(self):\n",
    "        self.coins += 10\n",
    "\n",
    "    def purchase_coins(self, count: int):\n",
    "        self.coins += count\n",
    "\n",
    "    def lend_coins(self, to:GameUser, count: int):\n",
    "        self.coins -= count\n",
    "        to.coins += count"
   ]
  },
  {
   "cell_type": "code",
   "execution_count": null,
   "id": "ff24867b",
   "metadata": {},
   "outputs": [],
   "source": [
    "u1 = GameUser(username=\"user1\", coins=10000)\n",
    "u2 = GameUser(username=\"user2\", coins=10000)"
   ]
  },
  {
   "cell_type": "code",
   "execution_count": null,
   "id": "b7fa558f",
   "metadata": {},
   "outputs": [
    {
     "data": {
      "text/plain": [
       "10000"
      ]
     },
     "execution_count": 30,
     "metadata": {},
     "output_type": "execute_result"
    }
   ],
   "source": [
    "u1.coins"
   ]
  },
  {
   "cell_type": "code",
   "execution_count": null,
   "id": "aa6ea025",
   "metadata": {},
   "outputs": [],
   "source": [
    "u1.play_game()"
   ]
  },
  {
   "cell_type": "code",
   "execution_count": null,
   "id": "1b1dd5de",
   "metadata": {},
   "outputs": [
    {
     "data": {
      "text/plain": [
       "10010"
      ]
     },
     "execution_count": 32,
     "metadata": {},
     "output_type": "execute_result"
    }
   ],
   "source": [
    "u1.coins"
   ]
  },
  {
   "cell_type": "code",
   "execution_count": null,
   "id": "bfd9145c",
   "metadata": {},
   "outputs": [],
   "source": [
    "u1.purchase_coins(1000)"
   ]
  },
  {
   "cell_type": "code",
   "execution_count": null,
   "id": "1b5841e0",
   "metadata": {},
   "outputs": [
    {
     "data": {
      "text/plain": [
       "11010"
      ]
     },
     "execution_count": 34,
     "metadata": {},
     "output_type": "execute_result"
    }
   ],
   "source": [
    "u1.coins"
   ]
  },
  {
   "cell_type": "code",
   "execution_count": null,
   "id": "8a48eaee",
   "metadata": {},
   "outputs": [
    {
     "data": {
      "text/plain": [
       "10000"
      ]
     },
     "execution_count": 35,
     "metadata": {},
     "output_type": "execute_result"
    }
   ],
   "source": [
    "u2.coins"
   ]
  },
  {
   "cell_type": "code",
   "execution_count": null,
   "id": "36adbd78",
   "metadata": {},
   "outputs": [],
   "source": [
    "u2.lend_coins(u1, 99)"
   ]
  },
  {
   "cell_type": "code",
   "execution_count": null,
   "id": "d2d032db",
   "metadata": {},
   "outputs": [
    {
     "data": {
      "text/plain": [
       "9901"
      ]
     },
     "execution_count": 37,
     "metadata": {},
     "output_type": "execute_result"
    }
   ],
   "source": [
    "u2.coins"
   ]
  },
  {
   "cell_type": "code",
   "execution_count": null,
   "id": "2ae33c54",
   "metadata": {},
   "outputs": [
    {
     "data": {
      "text/plain": [
       "11109"
      ]
     },
     "execution_count": 38,
     "metadata": {},
     "output_type": "execute_result"
    }
   ],
   "source": [
    "u1.coins"
   ]
  },
  {
   "cell_type": "code",
   "execution_count": null,
   "id": "96dcbda3",
   "metadata": {},
   "outputs": [],
   "source": [
    "class Anything:\n",
    "    pass"
   ]
  },
  {
   "cell_type": "code",
   "execution_count": null,
   "id": "9933a3fb",
   "metadata": {},
   "outputs": [],
   "source": [
    "a = Anything()"
   ]
  },
  {
   "cell_type": "code",
   "execution_count": null,
   "id": "f6ae28ae",
   "metadata": {},
   "outputs": [
    {
     "data": {
      "text/plain": [
       "'<__main__.Anything object at 0x000001D4CE93A9D0>'"
      ]
     },
     "execution_count": 41,
     "metadata": {},
     "output_type": "execute_result"
    }
   ],
   "source": [
    "a.__str__()"
   ]
  },
  {
   "cell_type": "code",
   "execution_count": null,
   "id": "dc457950",
   "metadata": {},
   "outputs": [],
   "source": [
    "class Animal:\n",
    "    def make_sound(self) -> str:\n",
    "        return \"get-lost\""
   ]
  },
  {
   "cell_type": "code",
   "execution_count": null,
   "id": "aca39095",
   "metadata": {},
   "outputs": [
    {
     "data": {
      "text/plain": [
       "'get-lost'"
      ]
     },
     "execution_count": 43,
     "metadata": {},
     "output_type": "execute_result"
    }
   ],
   "source": [
    "a = Animal()\n",
    "a.make_sound()"
   ]
  },
  {
   "cell_type": "code",
   "execution_count": null,
   "id": "85d3a0ee",
   "metadata": {},
   "outputs": [],
   "source": [
    "# Dog is Animal -> inheritence\n",
    "class Dog(Animal):\n",
    "    pass"
   ]
  },
  {
   "cell_type": "code",
   "execution_count": null,
   "id": "4cc9076e",
   "metadata": {},
   "outputs": [
    {
     "data": {
      "text/plain": [
       "'get-lost'"
      ]
     },
     "execution_count": 45,
     "metadata": {},
     "output_type": "execute_result"
    }
   ],
   "source": [
    "d = Dog()\n",
    "d.make_sound()"
   ]
  },
  {
   "cell_type": "code",
   "execution_count": null,
   "id": "0a648c28",
   "metadata": {},
   "outputs": [],
   "source": [
    "## overriding \n",
    "\n",
    "class Cat(Animal):\n",
    "    def make_sound(self):\n",
    "        #return super().make_sound()\n",
    "        return \"me..........ow\""
   ]
  },
  {
   "cell_type": "code",
   "execution_count": null,
   "id": "3f19a7bc",
   "metadata": {},
   "outputs": [
    {
     "data": {
      "text/plain": [
       "'me..........ow'"
      ]
     },
     "execution_count": 47,
     "metadata": {},
     "output_type": "execute_result"
    }
   ],
   "source": [
    "c = Cat()\n",
    "c.make_sound()"
   ]
  },
  {
   "cell_type": "code",
   "execution_count": null,
   "id": "6d2eefed",
   "metadata": {},
   "outputs": [],
   "source": [
    "class BankAccount:\n",
    "    def __init__(self, balance, id,rate_of_intrest):\n",
    "        self.balance = balance\n",
    "        self.id = id\n",
    "        self.rate_of_intrest = rate_of_intrest\n",
    "\n",
    "    def transfer(self, to, amount):\n",
    "        self.balance -= amount\n",
    "        to.balance  += amount"
   ]
  },
  {
   "cell_type": "code",
   "execution_count": null,
   "id": "f9a4c4c4",
   "metadata": {},
   "outputs": [],
   "source": [
    "class SavingsBankAccount(BankAccount):\n",
    "\n",
    "    def transfer(self, to, amount):\n",
    "        if amount > 50000:\n",
    "            print(\"Not possible\")\n",
    "        return super().transfer(to, amount)"
   ]
  },
  {
   "cell_type": "code",
   "execution_count": null,
   "id": "13f12039",
   "metadata": {},
   "outputs": [],
   "source": [
    "class CurrentBankAccount(BankAccount):\n",
    "    pass"
   ]
  },
  {
   "cell_type": "code",
   "execution_count": null,
   "id": "f00d6f24",
   "metadata": {},
   "outputs": [],
   "source": [
    "a = SavingsBankAccount(balance=100000, id=\"1\", rate_of_intrest=4)\n",
    "c = CurrentBankAccount(balance=1000000, id=\"2\", rate_of_intrest=0)"
   ]
  },
  {
   "cell_type": "code",
   "execution_count": null,
   "id": "711de453",
   "metadata": {},
   "outputs": [
    {
     "data": {
      "text/plain": [
       "100000"
      ]
     },
     "execution_count": 52,
     "metadata": {},
     "output_type": "execute_result"
    }
   ],
   "source": [
    "a.balance"
   ]
  },
  {
   "cell_type": "code",
   "execution_count": null,
   "id": "60a39a31",
   "metadata": {},
   "outputs": [
    {
     "data": {
      "text/plain": [
       "1000000"
      ]
     },
     "execution_count": 53,
     "metadata": {},
     "output_type": "execute_result"
    }
   ],
   "source": [
    "c.balance"
   ]
  },
  {
   "cell_type": "code",
   "execution_count": null,
   "id": "6d8e2cef",
   "metadata": {},
   "outputs": [],
   "source": [
    "c.transfer(a, 10000)"
   ]
  },
  {
   "cell_type": "code",
   "execution_count": null,
   "id": "9d1d6931",
   "metadata": {},
   "outputs": [
    {
     "data": {
      "text/plain": [
       "110000"
      ]
     },
     "execution_count": 55,
     "metadata": {},
     "output_type": "execute_result"
    }
   ],
   "source": [
    "a.balance"
   ]
  },
  {
   "cell_type": "code",
   "execution_count": null,
   "id": "2796ea5c",
   "metadata": {},
   "outputs": [
    {
     "data": {
      "text/plain": [
       "990000"
      ]
     },
     "execution_count": 56,
     "metadata": {},
     "output_type": "execute_result"
    }
   ],
   "source": [
    "c.balance"
   ]
  },
  {
   "cell_type": "code",
   "execution_count": null,
   "id": "cd0e1275",
   "metadata": {},
   "outputs": [
    {
     "name": "stdout",
     "output_type": "stream",
     "text": [
      "Not possible\n"
     ]
    },
    {
     "ename": "",
     "evalue": "",
     "output_type": "error",
     "traceback": [
      "\u001b[1;31mThe Kernel crashed while executing code in the current cell or a previous cell. \n",
      "\u001b[1;31mPlease review the code in the cell(s) to identify a possible cause of the failure. \n",
      "\u001b[1;31mClick <a href='https://aka.ms/vscodeJupyterKernelCrash'>here</a> for more info. \n",
      "\u001b[1;31mView Jupyter <a href='command:jupyter.viewOutput'>log</a> for further details."
     ]
    }
   ],
   "source": [
    "a.transfer(c, amount=1000000)"
   ]
  },
  {
   "cell_type": "markdown",
   "id": "936ee310",
   "metadata": {},
   "source": [
    "## Composition\n"
   ]
  },
  {
   "cell_type": "code",
   "execution_count": 18,
   "id": "67616736",
   "metadata": {},
   "outputs": [],
   "source": [
    "class Engine:\n",
    "    def __init__(self, manufacturer: str):\n",
    "        self.manufacturer = manufacturer\n",
    "\n",
    "    def start(self):\n",
    "        print(\"Engine Started\")\n",
    "\n",
    "    def stop(self):\n",
    "        print(\"Engine Stopped\")"
   ]
  },
  {
   "cell_type": "code",
   "execution_count": 21,
   "id": "54873961",
   "metadata": {},
   "outputs": [],
   "source": [
    "class Car:\n",
    "    def __init__(self, engine:Engine):\n",
    "        self.engine: Engine = engine\n",
    "\n",
    "    def start(self):\n",
    "        print(\"Battery started\")\n",
    "        self.engine.start()\n",
    "        print(\"AC on...\")\n",
    "\n"
   ]
  },
  {
   "cell_type": "code",
   "execution_count": 22,
   "id": "a2d139dc",
   "metadata": {},
   "outputs": [
    {
     "name": "stdout",
     "output_type": "stream",
     "text": [
      "Battery started\n",
      "Engine Started\n",
      "AC on...\n"
     ]
    }
   ],
   "source": [
    "engine = Engine(\"Fiat\")\n",
    "car = Car(engine)\n",
    "car.start()\n"
   ]
  },
  {
   "cell_type": "code",
   "execution_count": 33,
   "id": "fab1c19b",
   "metadata": {},
   "outputs": [],
   "source": [
    "class BankAccount:\n",
    "    def __init__(self, name, balance):\n",
    "        self.__name = name\n",
    "        self.__balance = balance\n",
    "\n",
    "    def get_balance(self):\n",
    "        return self.__balance\n",
    "    \n",
    "    def get_name(self):\n",
    "        return self.__name"
   ]
  },
  {
   "cell_type": "code",
   "execution_count": 34,
   "id": "963aac9d",
   "metadata": {},
   "outputs": [],
   "source": [
    "b = BankAccount(name=\"lt\", balance=1000000000000000)"
   ]
  },
  {
   "cell_type": "code",
   "execution_count": 35,
   "id": "3197b85a",
   "metadata": {},
   "outputs": [
    {
     "ename": "AttributeError",
     "evalue": "'BankAccount' object has no attribute '__balance'",
     "output_type": "error",
     "traceback": [
      "\u001b[31m---------------------------------------------------------------------------\u001b[39m",
      "\u001b[31mAttributeError\u001b[39m                            Traceback (most recent call last)",
      "\u001b[36mCell\u001b[39m\u001b[36m \u001b[39m\u001b[32mIn[35]\u001b[39m\u001b[32m, line 1\u001b[39m\n\u001b[32m----> \u001b[39m\u001b[32m1\u001b[39m \u001b[43mb\u001b[49m\u001b[43m.\u001b[49m\u001b[43m__balance\u001b[49m\n",
      "\u001b[31mAttributeError\u001b[39m: 'BankAccount' object has no attribute '__balance'"
     ]
    }
   ],
   "source": [
    "b.__balance"
   ]
  },
  {
   "cell_type": "code",
   "execution_count": 36,
   "id": "e9bb446b",
   "metadata": {},
   "outputs": [
    {
     "data": {
      "text/plain": [
       "1000000000000000"
      ]
     },
     "execution_count": 36,
     "metadata": {},
     "output_type": "execute_result"
    }
   ],
   "source": [
    "b.get_balance()"
   ]
  },
  {
   "cell_type": "code",
   "execution_count": 37,
   "id": "2acd9fd1",
   "metadata": {},
   "outputs": [
    {
     "ename": "AttributeError",
     "evalue": "'BankAccount' object has no attribute '__name'",
     "output_type": "error",
     "traceback": [
      "\u001b[31m---------------------------------------------------------------------------\u001b[39m",
      "\u001b[31mAttributeError\u001b[39m                            Traceback (most recent call last)",
      "\u001b[36mCell\u001b[39m\u001b[36m \u001b[39m\u001b[32mIn[37]\u001b[39m\u001b[32m, line 1\u001b[39m\n\u001b[32m----> \u001b[39m\u001b[32m1\u001b[39m \u001b[43mb\u001b[49m\u001b[43m.\u001b[49m\u001b[43m__name\u001b[49m\n",
      "\u001b[31mAttributeError\u001b[39m: 'BankAccount' object has no attribute '__name'"
     ]
    }
   ],
   "source": [
    "b.__name"
   ]
  },
  {
   "cell_type": "code",
   "execution_count": 38,
   "id": "3fd8b51f",
   "metadata": {},
   "outputs": [
    {
     "data": {
      "text/plain": [
       "'lt'"
      ]
     },
     "execution_count": 38,
     "metadata": {},
     "output_type": "execute_result"
    }
   ],
   "source": [
    "b.get_name()"
   ]
  },
  {
   "cell_type": "code",
   "execution_count": null,
   "id": "19479bbc",
   "metadata": {},
   "outputs": [],
   "source": [
    "# use properties\n",
    "\n",
    "class BankAccount:\n",
    "    def __init__(self, name, balance):\n",
    "        self.__name = name\n",
    "        self.__balance = balance\n",
    "\n",
    "    # get properties\n",
    "    @property # decorator\n",
    "    def balance(self):\n",
    "        return self.__balance\n",
    "    \n",
    "    # set\n",
    "    @balance.setter \n",
    "    def balance(self, value):\n",
    "        self.__balance = value\n",
    "    \n",
    "    @property   \n",
    "    def name(self):\n",
    "        return self.__name\n",
    "    \n",
    "    @name.setter\n",
    "    def name(self, value):\n",
    "        self.__name = value"
   ]
  },
  {
   "cell_type": "code",
   "execution_count": 50,
   "id": "834b80c3",
   "metadata": {},
   "outputs": [],
   "source": [
    "b = BankAccount(name=\"qt\", balance=\"10000\")\n"
   ]
  },
  {
   "cell_type": "code",
   "execution_count": 51,
   "id": "be5dfe92",
   "metadata": {},
   "outputs": [
    {
     "data": {
      "text/plain": [
       "'qt'"
      ]
     },
     "execution_count": 51,
     "metadata": {},
     "output_type": "execute_result"
    }
   ],
   "source": [
    "b.name"
   ]
  },
  {
   "cell_type": "code",
   "execution_count": 52,
   "id": "5d6eaa74",
   "metadata": {},
   "outputs": [],
   "source": [
    "b.name = \"QualityThought\""
   ]
  },
  {
   "cell_type": "code",
   "execution_count": null,
   "id": "14ea2436",
   "metadata": {},
   "outputs": [],
   "source": [
    "# variable number of positional arguments\n",
    "def add(*args):\n",
    "    print(type(args))\n",
    "    print(sum(args))"
   ]
  },
  {
   "cell_type": "code",
   "execution_count": 54,
   "id": "b6a5a3a9",
   "metadata": {},
   "outputs": [
    {
     "name": "stdout",
     "output_type": "stream",
     "text": [
      "<class 'tuple'>\n",
      "6\n"
     ]
    }
   ],
   "source": [
    "add(1,2,3)"
   ]
  },
  {
   "cell_type": "code",
   "execution_count": 55,
   "id": "f9bacb31",
   "metadata": {},
   "outputs": [
    {
     "name": "stdout",
     "output_type": "stream",
     "text": [
      "<class 'tuple'>\n",
      "55\n"
     ]
    }
   ],
   "source": [
    "add(1,2,3,4,5,6,7,8,9,10)"
   ]
  },
  {
   "cell_type": "code",
   "execution_count": 58,
   "id": "854c5ab9",
   "metadata": {},
   "outputs": [],
   "source": [
    "# variable number of keyword arguments\n",
    "def add(**kwargs):\n",
    "    print(type(kwargs))\n",
    "    print(sum(kwargs.values()))\n"
   ]
  },
  {
   "cell_type": "code",
   "execution_count": 59,
   "id": "e7a3a81e",
   "metadata": {},
   "outputs": [
    {
     "name": "stdout",
     "output_type": "stream",
     "text": [
      "<class 'dict'>\n",
      "3\n"
     ]
    }
   ],
   "source": [
    "add(a=1, b=2)"
   ]
  },
  {
   "cell_type": "code",
   "execution_count": 60,
   "id": "6a9b18e4",
   "metadata": {},
   "outputs": [
    {
     "name": "stdout",
     "output_type": "stream",
     "text": [
      "<class 'dict'>\n",
      "6\n"
     ]
    }
   ],
   "source": [
    "add(a=1, b=2, c=3)"
   ]
  },
  {
   "cell_type": "code",
   "execution_count": 63,
   "id": "24c1e842",
   "metadata": {},
   "outputs": [],
   "source": [
    "class Calculator:\n",
    "\n",
    "    def add(self,a: int, b: int) -> int:\n",
    "        return a + b\n",
    "    \n",
    "    def add(self,*args) -> int:\n",
    "        return sum(args)"
   ]
  },
  {
   "cell_type": "code",
   "execution_count": 64,
   "id": "db825046",
   "metadata": {},
   "outputs": [
    {
     "data": {
      "text/plain": [
       "36"
      ]
     },
     "execution_count": 64,
     "metadata": {},
     "output_type": "execute_result"
    }
   ],
   "source": [
    "c = Calculator()\n",
    "c.add(1,2,3,4,5,6,7,8)"
   ]
  },
  {
   "cell_type": "code",
   "execution_count": 73,
   "id": "ecfc7ffc",
   "metadata": {},
   "outputs": [],
   "source": [
    "# Class methods\n",
    "\n",
    "class Student:\n",
    "    institute = \"QT\"\n",
    "\n",
    "    def __init__(self, name):\n",
    "        self.name = name\n",
    "\n",
    "    @classmethod\n",
    "    def get_institue(cls):\n",
    "        return cls.institute\n",
    "    \n",
    "    @staticmethod\n",
    "    def help():\n",
    "        print(\"Help is underconstruction\")"
   ]
  },
  {
   "cell_type": "code",
   "execution_count": 74,
   "id": "41feb6da",
   "metadata": {},
   "outputs": [],
   "source": [
    "a = Student(\"a\")\n",
    "b = Student(\"b\")"
   ]
  },
  {
   "cell_type": "code",
   "execution_count": 75,
   "id": "7eb69b82",
   "metadata": {},
   "outputs": [
    {
     "data": {
      "text/plain": [
       "'QT'"
      ]
     },
     "execution_count": 75,
     "metadata": {},
     "output_type": "execute_result"
    }
   ],
   "source": [
    "a.get_institue()"
   ]
  },
  {
   "cell_type": "code",
   "execution_count": 78,
   "id": "4392660e",
   "metadata": {},
   "outputs": [
    {
     "name": "stdout",
     "output_type": "stream",
     "text": [
      "Help is underconstruction\n"
     ]
    }
   ],
   "source": [
    "a.help()"
   ]
  },
  {
   "cell_type": "code",
   "execution_count": 76,
   "id": "e26f40ee",
   "metadata": {},
   "outputs": [
    {
     "data": {
      "text/plain": [
       "'QT'"
      ]
     },
     "execution_count": 76,
     "metadata": {},
     "output_type": "execute_result"
    }
   ],
   "source": [
    "Student.get_institue()"
   ]
  },
  {
   "cell_type": "code",
   "execution_count": 79,
   "id": "f3ab3079",
   "metadata": {},
   "outputs": [
    {
     "name": "stdout",
     "output_type": "stream",
     "text": [
      "Help is underconstruction\n"
     ]
    }
   ],
   "source": [
    "Student.help()"
   ]
  },
  {
   "cell_type": "code",
   "execution_count": null,
   "id": "0953511f",
   "metadata": {},
   "outputs": [],
   "source": [
    "# SOLID Principles"
   ]
  },
  {
   "cell_type": "markdown",
   "id": "e1b37ceb",
   "metadata": {},
   "source": [
    "### S => Single Responsibility"
   ]
  },
  {
   "cell_type": "code",
   "execution_count": null,
   "id": "a1fc499f",
   "metadata": {},
   "outputs": [],
   "source": [
    "### Bad\n",
    "\n",
    "class Report:\n",
    "    def generate(self): pass\n",
    "\n",
    "    def save(self): pass\n",
    "\n",
    "    def print(self): pass"
   ]
  },
  {
   "cell_type": "code",
   "execution_count": null,
   "id": "68577d52",
   "metadata": {},
   "outputs": [],
   "source": [
    "# Good\n",
    "\n",
    "class Report:\n",
    "    def generate(self): pass\n",
    "\n",
    "\n",
    "class ReportSaver:\n",
    "    def save(self): pass\n",
    "\n",
    "class ReportPrinter:\n",
    "    def print(self): pass"
   ]
  },
  {
   "cell_type": "code",
   "execution_count": null,
   "id": "fbc7e216",
   "metadata": {},
   "outputs": [],
   "source": [
    "class Discount:\n",
    "    def __init__(self, user):\n",
    "        self.user = user\n",
    "        \n",
    "\n",
    "    def get_discount(self):\n",
    "        if self.user.is_customer():\n",
    "            return 10\n",
    "        elif self.user.has_couponcode():\n",
    "            return self.user.get_coupon_discount()\n",
    "        else:\n",
    "            return 2"
   ]
  },
  {
   "cell_type": "code",
   "execution_count": null,
   "id": "7e7c8aeb",
   "metadata": {},
   "outputs": [],
   "source": [
    "class Discount:\n",
    "    def __init__(self, user):\n",
    "        self.user = user\n",
    "\n",
    "    def get_discount(self):\n",
    "        return user.get_promised_discount()\n",
    "    \n",
    "\n",
    "class User:\n",
    "    def get_promised_discount(self):\n",
    "        return 2\n",
    "\n",
    "class Customer(User):\n",
    "    def get_promised_discount(self):\n",
    "        return 10\n",
    "    \n",
    "class DiscountedUser(User):\n",
    "    def get_promised_discount(self):\n",
    "        return 5"
   ]
  },
  {
   "cell_type": "code",
   "execution_count": null,
   "id": "f5dade72",
   "metadata": {},
   "outputs": [],
   "source": [
    "class Inventory:\n",
    "\n",
    "    def get_servers(self): pass\n",
    "\n",
    "\n",
    "class AzureInventory(Inventory):\n",
    "    def get_servers(self):  pass\n"
   ]
  },
  {
   "cell_type": "code",
   "execution_count": 81,
   "id": "a82c082a",
   "metadata": {},
   "outputs": [],
   "source": [
    "# Abstract class\n",
    "from abc import ABC, abstractmethod\n",
    "class SmartPhoneBase(ABC):\n",
    "\n",
    "    @abstractmethod\n",
    "    def call(self, number): pass\n",
    "\n",
    "    @abstractmethod\n",
    "    def app_install(self): pass\n",
    "\n",
    "    @abstractmethod\n",
    "    def app_uninstall(self): pass\n"
   ]
  },
  {
   "cell_type": "code",
   "execution_count": null,
   "id": "c6e99a3e",
   "metadata": {},
   "outputs": [
    {
     "ename": "TypeError",
     "evalue": "Can't instantiate abstract class SmartPhoneBase with abstract methods app_install, app_uninstall, call",
     "output_type": "error",
     "traceback": [
      "\u001b[31m---------------------------------------------------------------------------\u001b[39m",
      "\u001b[31mTypeError\u001b[39m                                 Traceback (most recent call last)",
      "\u001b[36mCell\u001b[39m\u001b[36m \u001b[39m\u001b[32mIn[82]\u001b[39m\u001b[32m, line 1\u001b[39m\n\u001b[32m----> \u001b[39m\u001b[32m1\u001b[39m s = \u001b[43mSmartPhoneBase\u001b[49m\u001b[43m(\u001b[49m\u001b[43m)\u001b[49m\n",
      "\u001b[31mTypeError\u001b[39m: Can't instantiate abstract class SmartPhoneBase with abstract methods app_install, app_uninstall, call"
     ]
    }
   ],
   "source": [
    "s = SmartPhoneBase()"
   ]
  },
  {
   "cell_type": "code",
   "execution_count": 83,
   "id": "1f68d540",
   "metadata": {},
   "outputs": [],
   "source": [
    "class SamsungS(SmartPhoneBase):\n",
    "    def call(self, number):\n",
    "        # how to call\n",
    "        pass\n",
    "\n",
    "    def app_install(self): \n",
    "        # how to install\n",
    "        pass\n",
    "\n",
    "    def app_uninstall(self):\n",
    "        pass"
   ]
  },
  {
   "cell_type": "code",
   "execution_count": 85,
   "id": "841e53f3",
   "metadata": {},
   "outputs": [],
   "source": [
    "s = SamsungS()\n"
   ]
  },
  {
   "cell_type": "code",
   "execution_count": 84,
   "id": "a134694e",
   "metadata": {},
   "outputs": [],
   "source": [
    "def make_call(phone: SmartPhoneBase, number):\n",
    "    phone.call(number)"
   ]
  },
  {
   "cell_type": "code",
   "execution_count": 87,
   "id": "162fd9c4",
   "metadata": {},
   "outputs": [],
   "source": [
    "make_call(s, \"\")"
   ]
  },
  {
   "cell_type": "code",
   "execution_count": 88,
   "id": "5d5bd79e",
   "metadata": {},
   "outputs": [],
   "source": [
    "class DBConnection(ABC):\n",
    "    @abstractmethod\n",
    "    def connect(self, *args): pass\n",
    "\n",
    "    @abstractmethod\n",
    "    def disconnect(self, *args): pass\n",
    "\n",
    "    @abstractmethod\n",
    "    def execute(self, *args): pass\n",
    "    "
   ]
  },
  {
   "cell_type": "code",
   "execution_count": 90,
   "id": "a936ce49",
   "metadata": {},
   "outputs": [],
   "source": [
    "class MySqlConnection(DBConnection):\n",
    "    pass"
   ]
  },
  {
   "cell_type": "code",
   "execution_count": 89,
   "id": "ea95d60a",
   "metadata": {},
   "outputs": [],
   "source": [
    "class PostgresConnection(DBConnection):\n",
    "    pass"
   ]
  },
  {
   "cell_type": "code",
   "execution_count": null,
   "id": "43ce1e92",
   "metadata": {},
   "outputs": [],
   "source": [
    "def connect(db: DBConnection): pass"
   ]
  },
  {
   "cell_type": "code",
   "execution_count": 2,
   "id": "8c684d2b",
   "metadata": {},
   "outputs": [],
   "source": [
    "# Duck typing\n",
    "\n",
    "class Bird:\n",
    "    def fly(self):\n",
    "        print(\"Fly.............\")"
   ]
  },
  {
   "cell_type": "code",
   "execution_count": 10,
   "id": "c8c1c31a",
   "metadata": {},
   "outputs": [],
   "source": [
    "class Eagle(Bird):\n",
    "    def fly(self):\n",
    "        #return super().fly()\n",
    "        print(\"Eagle is flying\")"
   ]
  },
  {
   "cell_type": "code",
   "execution_count": 4,
   "id": "bee9141f",
   "metadata": {},
   "outputs": [],
   "source": [
    "class Plane:\n",
    "    def fly(self):\n",
    "        print(\"Plane is flying\")"
   ]
  },
  {
   "cell_type": "code",
   "execution_count": 11,
   "id": "7664ed90",
   "metadata": {},
   "outputs": [],
   "source": [
    "def make_it_fly(bird):\n",
    "    bird.fly()"
   ]
  },
  {
   "cell_type": "code",
   "execution_count": 12,
   "id": "419b2fd4",
   "metadata": {},
   "outputs": [],
   "source": [
    "b = Bird()\n",
    "e = Eagle()\n",
    "p = Plane()"
   ]
  },
  {
   "cell_type": "code",
   "execution_count": 13,
   "id": "8e52ad9e",
   "metadata": {},
   "outputs": [
    {
     "name": "stdout",
     "output_type": "stream",
     "text": [
      "Fly.............\n"
     ]
    }
   ],
   "source": [
    "make_it_fly(b)"
   ]
  },
  {
   "cell_type": "code",
   "execution_count": 14,
   "id": "56453ba7",
   "metadata": {},
   "outputs": [
    {
     "name": "stdout",
     "output_type": "stream",
     "text": [
      "Eagle is flying\n"
     ]
    }
   ],
   "source": [
    "make_it_fly(e)"
   ]
  },
  {
   "cell_type": "code",
   "execution_count": 15,
   "id": "b2cf3df1",
   "metadata": {},
   "outputs": [
    {
     "name": "stdout",
     "output_type": "stream",
     "text": [
      "Plane is flying\n"
     ]
    }
   ],
   "source": [
    "make_it_fly(p)"
   ]
  },
  {
   "cell_type": "code",
   "execution_count": 16,
   "id": "7e47df35",
   "metadata": {},
   "outputs": [],
   "source": [
    "class Car: pass"
   ]
  },
  {
   "cell_type": "code",
   "execution_count": 17,
   "id": "f47155e4",
   "metadata": {},
   "outputs": [],
   "source": [
    "c = Car()"
   ]
  },
  {
   "cell_type": "code",
   "execution_count": 18,
   "id": "481bea2d",
   "metadata": {},
   "outputs": [
    {
     "ename": "AttributeError",
     "evalue": "'Car' object has no attribute 'fly'",
     "output_type": "error",
     "traceback": [
      "\u001b[31m---------------------------------------------------------------------------\u001b[39m",
      "\u001b[31mAttributeError\u001b[39m                            Traceback (most recent call last)",
      "\u001b[36mCell\u001b[39m\u001b[36m \u001b[39m\u001b[32mIn[18]\u001b[39m\u001b[32m, line 1\u001b[39m\n\u001b[32m----> \u001b[39m\u001b[32m1\u001b[39m \u001b[43mmake_it_fly\u001b[49m\u001b[43m(\u001b[49m\u001b[43mc\u001b[49m\u001b[43m)\u001b[49m\n",
      "\u001b[36mCell\u001b[39m\u001b[36m \u001b[39m\u001b[32mIn[11]\u001b[39m\u001b[32m, line 2\u001b[39m, in \u001b[36mmake_it_fly\u001b[39m\u001b[34m(bird)\u001b[39m\n\u001b[32m      1\u001b[39m \u001b[38;5;28;01mdef\u001b[39;00m\u001b[38;5;250m \u001b[39m\u001b[34mmake_it_fly\u001b[39m(bird):\n\u001b[32m----> \u001b[39m\u001b[32m2\u001b[39m     \u001b[43mbird\u001b[49m\u001b[43m.\u001b[49m\u001b[43mfly\u001b[49m()\n",
      "\u001b[31mAttributeError\u001b[39m: 'Car' object has no attribute 'fly'"
     ]
    }
   ],
   "source": [
    "make_it_fly(c)"
   ]
  },
  {
   "cell_type": "code",
   "execution_count": 20,
   "id": "29c1b3a6",
   "metadata": {},
   "outputs": [],
   "source": [
    "class ContextManager:\n",
    "    def __init__(self):\n",
    "        print('init method called')\n",
    "        \n",
    "    def __enter__(self):\n",
    "        print('enter method called')\n",
    "        return self\n",
    "    \n",
    "    def print_details(self):\n",
    "        print(\"im context manager\")\n",
    "    \n",
    "    def __exit__(self, exc_type, exc_value, exc_traceback):\n",
    "        print('exit method called')"
   ]
  },
  {
   "cell_type": "code",
   "execution_count": 21,
   "id": "d87c1824",
   "metadata": {},
   "outputs": [
    {
     "name": "stdout",
     "output_type": "stream",
     "text": [
      "init method called\n",
      "enter method called\n",
      "im context manager\n",
      "exit method called\n"
     ]
    }
   ],
   "source": [
    "with ContextManager() as c:\n",
    "    c.print_details()"
   ]
  }
 ],
 "metadata": {
  "kernelspec": {
   "display_name": "Python 3",
   "language": "python",
   "name": "python3"
  },
  "language_info": {
   "codemirror_mode": {
    "name": "ipython",
    "version": 3
   },
   "file_extension": ".py",
   "mimetype": "text/x-python",
   "name": "python",
   "nbconvert_exporter": "python",
   "pygments_lexer": "ipython3",
   "version": "3.11.9"
  }
 },
 "nbformat": 4,
 "nbformat_minor": 5
}

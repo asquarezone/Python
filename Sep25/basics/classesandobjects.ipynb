{
 "cells": [
  {
   "cell_type": "code",
   "execution_count": null,
   "id": "1f70f1f3",
   "metadata": {},
   "outputs": [],
   "source": [
    "# defining class\n",
    "class BankAccount:\n",
    "    pass"
   ]
  },
  {
   "cell_type": "code",
   "execution_count": 5,
   "id": "de9ad235",
   "metadata": {},
   "outputs": [],
   "source": [
    "# creating object (instantiation)\n",
    "b1 = BankAccount()\n",
    "b2 = BankAccount()"
   ]
  },
  {
   "cell_type": "code",
   "execution_count": 6,
   "id": "12cee53e",
   "metadata": {},
   "outputs": [],
   "source": [
    "## initialization\n",
    "\n",
    "class BankAccount:\n",
    "    def __init__(self):\n",
    "        \"\"\"initializer\"\"\"\n",
    "        self.id:str = \"\"\n",
    "        self.balance: float = 0\n",
    "        self.email: str = \"\""
   ]
  },
  {
   "cell_type": "code",
   "execution_count": 8,
   "id": "393081a7",
   "metadata": {},
   "outputs": [
    {
     "name": "stdout",
     "output_type": "stream",
     "text": [
      "0\n"
     ]
    }
   ],
   "source": [
    "b1 = BankAccount()\n",
    "\n",
    "print(b1.balance)"
   ]
  },
  {
   "cell_type": "code",
   "execution_count": 9,
   "id": "5fb6f4a1",
   "metadata": {},
   "outputs": [],
   "source": [
    "## initialization\n",
    "\n",
    "class BankAccount:\n",
    "    def __init__(self, id:str, balance: float, email:str):\n",
    "        \"\"\"initializer\"\"\"\n",
    "        self.id:str = id\n",
    "        self.balance: float = balance\n",
    "        self.email: str = email"
   ]
  },
  {
   "cell_type": "code",
   "execution_count": null,
   "id": "81b9dc7f",
   "metadata": {},
   "outputs": [],
   "source": [
    "b1 = BankAccount(\"b1001\", 100000, 'testb1@gmail.com')"
   ]
  },
  {
   "cell_type": "code",
   "execution_count": 11,
   "id": "b4c0a052",
   "metadata": {},
   "outputs": [
    {
     "data": {
      "text/plain": [
       "'b1001'"
      ]
     },
     "execution_count": 11,
     "metadata": {},
     "output_type": "execute_result"
    }
   ],
   "source": [
    "b1.id"
   ]
  },
  {
   "cell_type": "code",
   "execution_count": 12,
   "id": "79f60068",
   "metadata": {},
   "outputs": [
    {
     "data": {
      "text/plain": [
       "100000"
      ]
     },
     "execution_count": 12,
     "metadata": {},
     "output_type": "execute_result"
    }
   ],
   "source": [
    "b1.balance"
   ]
  },
  {
   "cell_type": "code",
   "execution_count": 13,
   "id": "c1ee3981",
   "metadata": {},
   "outputs": [
    {
     "data": {
      "text/plain": [
       "'testb1@gmail.com'"
      ]
     },
     "execution_count": 13,
     "metadata": {},
     "output_type": "execute_result"
    }
   ],
   "source": [
    "b1.email"
   ]
  },
  {
   "cell_type": "code",
   "execution_count": 14,
   "id": "eda137bf",
   "metadata": {},
   "outputs": [],
   "source": [
    "## add methods\n",
    "\n",
    "class BankAccount:\n",
    "    def __init__(self, id:str, balance: float, email:str):\n",
    "        \"\"\"initializer\"\"\"\n",
    "        self.id:str = id\n",
    "        self.balance: float = balance\n",
    "        self.email: str = email\n",
    "    \n",
    "    def deposit(self, amount:float) -> None:\n",
    "        self.balance += amount\n",
    "\n",
    "    def withdraw(self, amount: float) -> None:\n",
    "        self.balance -= amount\n",
    "\n",
    "    def transfer(self, to: BankAccount, amount: float) -> None:\n",
    "        self.balance -= amount\n",
    "        to.balance += amount"
   ]
  },
  {
   "cell_type": "code",
   "execution_count": 23,
   "id": "0c17749e",
   "metadata": {},
   "outputs": [],
   "source": [
    "p1 = BankAccount(id=\"B1001\", balance=1000000, email='b1@gmail.com')\n",
    "s1 = BankAccount(id=\"B1002\", balance=100000000, email=\"s1@gmail.com\")"
   ]
  },
  {
   "cell_type": "code",
   "execution_count": 18,
   "id": "d82cd23d",
   "metadata": {},
   "outputs": [
    {
     "data": {
      "text/plain": [
       "1000000"
      ]
     },
     "execution_count": 18,
     "metadata": {},
     "output_type": "execute_result"
    }
   ],
   "source": [
    "p1.balance"
   ]
  },
  {
   "cell_type": "code",
   "execution_count": 19,
   "id": "64824aec",
   "metadata": {},
   "outputs": [
    {
     "data": {
      "text/plain": [
       "100000000"
      ]
     },
     "execution_count": 19,
     "metadata": {},
     "output_type": "execute_result"
    }
   ],
   "source": [
    "s1.balance"
   ]
  },
  {
   "cell_type": "code",
   "execution_count": 25,
   "id": "73b19152",
   "metadata": {},
   "outputs": [],
   "source": [
    "s1.transfer(to=p1, amount=100000)"
   ]
  },
  {
   "cell_type": "code",
   "execution_count": 21,
   "id": "740e5cbd",
   "metadata": {},
   "outputs": [
    {
     "data": {
      "text/plain": [
       "1100000"
      ]
     },
     "execution_count": 21,
     "metadata": {},
     "output_type": "execute_result"
    }
   ],
   "source": [
    "p1.balance"
   ]
  },
  {
   "cell_type": "code",
   "execution_count": 22,
   "id": "0452e98e",
   "metadata": {},
   "outputs": [
    {
     "data": {
      "text/plain": [
       "99900000"
      ]
     },
     "execution_count": 22,
     "metadata": {},
     "output_type": "execute_result"
    }
   ],
   "source": [
    "s1.balance"
   ]
  }
 ],
 "metadata": {
  "kernelspec": {
   "display_name": "Python 3",
   "language": "python",
   "name": "python3"
  },
  "language_info": {
   "codemirror_mode": {
    "name": "ipython",
    "version": 3
   },
   "file_extension": ".py",
   "mimetype": "text/x-python",
   "name": "python",
   "nbconvert_exporter": "python",
   "pygments_lexer": "ipython3",
   "version": "3.11.9"
  }
 },
 "nbformat": 4,
 "nbformat_minor": 5
}

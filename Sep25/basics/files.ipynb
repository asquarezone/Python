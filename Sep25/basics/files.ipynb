{
 "cells": [
  {
   "cell_type": "code",
   "execution_count": 20,
   "id": "21e1180f",
   "metadata": {},
   "outputs": [],
   "source": [
    "with open(\"notes.txt\", mode=\"w\") as file:\n",
    "    file.write(\"hello\\n\")\n",
    "    file.write(\"hai\\n\")\n",
    "    file.write(\"i'm doing good\")"
   ]
  },
  {
   "cell_type": "code",
   "execution_count": 21,
   "id": "399b35a1",
   "metadata": {},
   "outputs": [],
   "source": [
    "with open(\"notes.txt\", mode=\"w\") as file:\n",
    "    file.writelines([\"hello\",\"\\n\",\"hai\", \"\\n\"])"
   ]
  },
  {
   "cell_type": "code",
   "execution_count": 23,
   "id": "3797bf81",
   "metadata": {},
   "outputs": [],
   "source": [
    "with open(\"notes.txt\", mode=\"a\") as file:\n",
    "    file.writelines([\"hello\",\"\\n\",\"hai\", \"\\n\"])"
   ]
  },
  {
   "cell_type": "code",
   "execution_count": null,
   "id": "7ba3db68",
   "metadata": {},
   "outputs": [
    {
     "name": "stdout",
     "output_type": "stream",
     "text": [
      "hello\n",
      "\n",
      "hai\n",
      "\n",
      "hello\n",
      "\n",
      "hai\n",
      "\n",
      "hello\n",
      "\n",
      "hai\n",
      "\n"
     ]
    },
    {
     "ename": "",
     "evalue": "",
     "output_type": "error",
     "traceback": [
      "\u001b[1;31mThe Kernel crashed while executing code in the current cell or a previous cell. \n",
      "\u001b[1;31mPlease review the code in the cell(s) to identify a possible cause of the failure. \n",
      "\u001b[1;31mClick <a href='https://aka.ms/vscodeJupyterKernelCrash'>here</a> for more info. \n",
      "\u001b[1;31mView Jupyter <a href='command:jupyter.viewOutput'>log</a> for further details."
     ]
    }
   ],
   "source": [
    "with open(\"notes.txt\", mode=\"r\") as file:\n",
    "    for line in file.readlines():\n",
    "        print(line)"
   ]
  }
 ],
 "metadata": {
  "kernelspec": {
   "display_name": "Python 3",
   "language": "python",
   "name": "python3"
  },
  "language_info": {
   "codemirror_mode": {
    "name": "ipython",
    "version": 3
   },
   "file_extension": ".py",
   "mimetype": "text/x-python",
   "name": "python",
   "nbconvert_exporter": "python",
   "pygments_lexer": "ipython3",
   "version": "3.11.9"
  }
 },
 "nbformat": 4,
 "nbformat_minor": 5
}

{
 "cells": [
  {
   "cell_type": "code",
   "execution_count": 1,
   "id": "50afe705",
   "metadata": {},
   "outputs": [],
   "source": [
    "ticket = {\n",
    "    'theatre': 'gokul',\n",
    "    'movie': 'kantara',\n",
    "    'seat': 'b17',\n",
    "    'date': '22-oct-2025',\n",
    "    'showtime': '11:30'\n",
    "}"
   ]
  },
  {
   "cell_type": "code",
   "execution_count": 2,
   "id": "86715dd6",
   "metadata": {},
   "outputs": [],
   "source": [
    "import json"
   ]
  },
  {
   "cell_type": "code",
   "execution_count": 5,
   "id": "a1888aa8",
   "metadata": {},
   "outputs": [
    {
     "name": "stdout",
     "output_type": "stream",
     "text": [
      "{\"theatre\": \"gokul\", \"movie\": \"kantara\", \"seat\": \"b17\", \"date\": \"22-oct-2025\", \"showtime\": \"11:30\"}\n"
     ]
    }
   ],
   "source": [
    "print(json.dumps(ticket))"
   ]
  },
  {
   "cell_type": "code",
   "execution_count": 6,
   "id": "1008b04e",
   "metadata": {},
   "outputs": [
    {
     "name": "stdout",
     "output_type": "stream",
     "text": [
      "{\n",
      "    \"theatre\": \"gokul\",\n",
      "    \"movie\": \"kantara\",\n",
      "    \"seat\": \"b17\",\n",
      "    \"date\": \"22-oct-2025\",\n",
      "    \"showtime\": \"11:30\"\n",
      "}\n"
     ]
    }
   ],
   "source": [
    "print(json.dumps(ticket, indent=4))"
   ]
  },
  {
   "cell_type": "code",
   "execution_count": null,
   "id": "e9abbb2c",
   "metadata": {},
   "outputs": [],
   "source": [
    "# writing to json\n",
    "with open('ticket.json', mode='w') as f:\n",
    "    json.dump(ticket, f, indent=4)"
   ]
  },
  {
   "cell_type": "code",
   "execution_count": 9,
   "id": "5eec5f91",
   "metadata": {},
   "outputs": [
    {
     "name": "stdout",
     "output_type": "stream",
     "text": [
      "{'theatre': 'sriramulu', 'movie': 'og', 'seat': 'c17', 'date': '15-oct-2025', 'showtime': '11:30'}\n"
     ]
    }
   ],
   "source": [
    "# Read from json\n",
    "with open('myticket.json', mode='r') as f:\n",
    "    ticket = json.load(f)\n",
    "    print(ticket)"
   ]
  },
  {
   "cell_type": "code",
   "execution_count": 10,
   "id": "2bd37b57",
   "metadata": {},
   "outputs": [],
   "source": [
    "# Read a complex json\n",
    "with open('avengers.json', mode='r') as f:\n",
    "    avenger_dict = json.load(f)"
   ]
  },
  {
   "cell_type": "code",
   "execution_count": 11,
   "id": "4e937b9a",
   "metadata": {},
   "outputs": [
    {
     "data": {
      "text/plain": [
       "{'movie': {'id': 'mv_0001',\n",
       "  'title': 'Avengers: Endgame',\n",
       "  'tagline': 'Part of the journey is the end.',\n",
       "  'description': \"After the devastating events of Avengers: Infinity War, the universe is in ruins. With the help of remaining allies, the Avengers assemble once more to reverse Thanos' actions and restore balance to the universe.\",\n",
       "  'release': {'date': '2019-04-26',\n",
       "   'country': 'USA',\n",
       "   'languages': ['English', 'Japanese', 'Xhosa'],\n",
       "   'runtime_minutes': 181,\n",
       "   'age_rating': {'MPAA': 'PG-13', 'BBFC': '12A'}},\n",
       "  'production': {'budget_usd': 356000000,\n",
       "   'box_office': {'domestic': 858373000,\n",
       "    'international': 1939390000,\n",
       "    'worldwide': 2797962000},\n",
       "   'studios': [{'id': 'st_001', 'name': 'Marvel Studios', 'country': 'USA'}],\n",
       "   'distributor': {'name': 'Walt Disney Studios Motion Pictures',\n",
       "    'headquarters': 'Burbank, California'}},\n",
       "  'crew': {'directors': [{'id': 'cr_001',\n",
       "     'name': 'Anthony Russo',\n",
       "     'role': 'Director'},\n",
       "    {'id': 'cr_002', 'name': 'Joe Russo', 'role': 'Director'}],\n",
       "   'writers': [{'id': 'cr_003',\n",
       "     'name': 'Christopher Markus',\n",
       "     'role': 'Screenplay'},\n",
       "    {'id': 'cr_004', 'name': 'Stephen McFeely', 'role': 'Screenplay'}],\n",
       "   'music': {'composer': 'Alan Silvestri'},\n",
       "   'cinematography': {'name': 'Trent Opaloch'}},\n",
       "  'cast': [{'id': 'act_001',\n",
       "    'name': 'Robert Downey Jr.',\n",
       "    'character': {'name': 'Tony Stark / Iron Man',\n",
       "     'affiliations': ['Avengers'],\n",
       "     'status': 'Deceased'},\n",
       "    'screen_time_minutes': 85},\n",
       "   {'id': 'act_002',\n",
       "    'name': 'Chris Evans',\n",
       "    'character': {'name': 'Steve Rogers / Captain America',\n",
       "     'affiliations': ['Avengers'],\n",
       "     'status': 'Retired'},\n",
       "    'screen_time_minutes': 78},\n",
       "   {'id': 'act_003',\n",
       "    'name': 'Scarlett Johansson',\n",
       "    'character': {'name': 'Natasha Romanoff / Black Widow',\n",
       "     'affiliations': ['Avengers', 'S.H.I.E.L.D.'],\n",
       "     'status': 'Deceased'},\n",
       "    'screen_time_minutes': 60},\n",
       "   {'id': 'act_004',\n",
       "    'name': 'Mark Ruffalo',\n",
       "    'character': {'name': 'Bruce Banner / Hulk',\n",
       "     'affiliations': ['Avengers'],\n",
       "     'status': 'Alive'},\n",
       "    'screen_time_minutes': 70},\n",
       "   {'id': 'act_005',\n",
       "    'name': 'Chris Hemsworth',\n",
       "    'character': {'name': 'Thor',\n",
       "     'affiliations': ['Avengers', 'Asgardians'],\n",
       "     'status': 'Alive'},\n",
       "    'screen_time_minutes': 65}],\n",
       "  'plot_summary': {'acts': [{'act': 1,\n",
       "     'summary': 'The Avengers find and confront Thanos, but discover he has destroyed the Infinity Stones.'},\n",
       "    {'act': 2,\n",
       "     'summary': \"They devise a 'Time Heist' to retrieve the Stones from the past and undo the Snap.\"},\n",
       "    {'act': 3,\n",
       "     'summary': \"Thanos from 2014 attacks the Avengers' base, leading to the climactic battle and Tony Stark's sacrifice.\"}]},\n",
       "  'awards': [{'name': 'Academy Awards',\n",
       "    'year': 2020,\n",
       "    'nominations': ['Best Visual Effects']},\n",
       "   {'name': 'MTV Movie & TV Awards',\n",
       "    'year': 2019,\n",
       "    'nominations': ['Best Movie', 'Best Hero (Robert Downey Jr.)'],\n",
       "    'wins': ['Best Movie']}],\n",
       "  'related_movies': {'prequels': [{'id': 'mv_0002',\n",
       "     'title': 'Avengers: Infinity War',\n",
       "     'release_year': 2018}],\n",
       "   'sequels': [],\n",
       "   'shared_universe': 'Marvel Cinematic Universe'},\n",
       "  'external_links': {'imdb': 'https://www.imdb.com/title/tt4154796/',\n",
       "   'official_site': 'https://www.marvel.com/movies/avengers-endgame',\n",
       "   'trailer': 'https://www.youtube.com/watch?v=TcMBFSGVi1c'},\n",
       "  'metadata': {'created_at': '2025-10-22T09:30:00Z',\n",
       "   'last_updated_at': '2025-10-22T09:31:00Z',\n",
       "   'schema_version': '1.2.0',\n",
       "   'data_source': 'Marvel Cinematic Universe API'}}}"
      ]
     },
     "execution_count": 11,
     "metadata": {},
     "output_type": "execute_result"
    }
   ],
   "source": [
    "avenger_dict"
   ]
  },
  {
   "cell_type": "code",
   "execution_count": 18,
   "id": "2fa12126",
   "metadata": {},
   "outputs": [
    {
     "data": {
      "text/plain": [
       "2797962000"
      ]
     },
     "execution_count": 18,
     "metadata": {},
     "output_type": "execute_result"
    }
   ],
   "source": [
    "avenger_dict['movie']['production']['box_office']['worldwide']\n"
   ]
  },
  {
   "cell_type": "code",
   "execution_count": 22,
   "id": "0b1ce8ee",
   "metadata": {},
   "outputs": [
    {
     "data": {
      "text/plain": [
       "'Anthony Russo'"
      ]
     },
     "execution_count": 22,
     "metadata": {},
     "output_type": "execute_result"
    }
   ],
   "source": [
    "avenger_dict['movie']['crew']['directors'][0]['name']"
   ]
  },
  {
   "cell_type": "code",
   "execution_count": 23,
   "id": "f8347561",
   "metadata": {},
   "outputs": [],
   "source": [
    "import yaml"
   ]
  },
  {
   "cell_type": "code",
   "execution_count": 24,
   "id": "6ce1d2f8",
   "metadata": {},
   "outputs": [],
   "source": [
    "ticket = {\n",
    "    'theatre': 'gokul',\n",
    "    'movie': 'kantara',\n",
    "    'seat': 'b17',\n",
    "    'date': '22-oct-2025',\n",
    "    'showtime': '11:30'\n",
    "}"
   ]
  },
  {
   "cell_type": "code",
   "execution_count": 26,
   "id": "25f8c6ae",
   "metadata": {},
   "outputs": [],
   "source": [
    "with open('ticket.yml', mode='w') as f:\n",
    "    yaml.dump(ticket, f)"
   ]
  },
  {
   "cell_type": "code",
   "execution_count": null,
   "id": "85c64a0f",
   "metadata": {},
   "outputs": [],
   "source": [
    "with open('ticket.yml', mode='r') as f:\n",
    "    read_ticket = yaml.safe_load(f)"
   ]
  },
  {
   "cell_type": "code",
   "execution_count": 30,
   "id": "3006bc43",
   "metadata": {},
   "outputs": [
    {
     "data": {
      "text/plain": [
       "{'date': '22-oct-2025',\n",
       " 'movie': 'kantara',\n",
       " 'seat': 'b17',\n",
       " 'showtime': '11:30',\n",
       " 'theatre': 'gokul'}"
      ]
     },
     "execution_count": 30,
     "metadata": {},
     "output_type": "execute_result"
    }
   ],
   "source": [
    "read_ticket"
   ]
  },
  {
   "cell_type": "code",
   "execution_count": 31,
   "id": "0d4380fb",
   "metadata": {},
   "outputs": [],
   "source": [
    "import yaml\n",
    "with open('avengers.yaml', mode='r') as f:\n",
    "    avengers_dict = yaml.safe_load(f)"
   ]
  },
  {
   "cell_type": "code",
   "execution_count": null,
   "id": "d05983bb",
   "metadata": {},
   "outputs": [
    {
     "data": {
      "text/plain": [
       "{'movie': {'id': 'mv_0001',\n",
       "  'title': 'Avengers: Endgame',\n",
       "  'tagline': 'Part of the journey is the end.',\n",
       "  'description': \"After the devastating events of Avengers: Infinity War, the universe is in ruins. With the help of remaining allies, the Avengers assemble once more to reverse Thanos' actions and restore balance to the universe.\",\n",
       "  'release': {'date': '2019-04-26',\n",
       "   'country': 'USA',\n",
       "   'languages': ['English', 'Japanese', 'Xhosa'],\n",
       "   'runtime_minutes': 181,\n",
       "   'age_rating': {'MPAA': 'PG-13', 'BBFC': '12A'}},\n",
       "  'production': {'budget_usd': 356000000,\n",
       "   'box_office': {'domestic': 858373000,\n",
       "    'international': 1939390000,\n",
       "    'worldwide': 2797962000},\n",
       "   'studios': [{'id': 'st_001', 'name': 'Marvel Studios', 'country': 'USA'}],\n",
       "   'distributor': {'name': 'Walt Disney Studios Motion Pictures',\n",
       "    'headquarters': 'Burbank, California'}},\n",
       "  'crew': {'directors': [{'id': 'cr_001',\n",
       "     'name': 'Anthony Russo',\n",
       "     'role': 'Director'},\n",
       "    {'id': 'cr_002', 'name': 'Joe Russo', 'role': 'Director'}],\n",
       "   'writers': [{'id': 'cr_003',\n",
       "     'name': 'Christopher Markus',\n",
       "     'role': 'Screenplay'},\n",
       "    {'id': 'cr_004', 'name': 'Stephen McFeely', 'role': 'Screenplay'}],\n",
       "   'music': {'composer': 'Alan Silvestri'},\n",
       "   'cinematography': {'name': 'Trent Opaloch'}},\n",
       "  'cast': [{'id': 'act_001',\n",
       "    'name': 'Robert Downey Jr.',\n",
       "    'character': {'name': 'Tony Stark / Iron Man',\n",
       "     'affiliations': ['Avengers'],\n",
       "     'status': 'Deceased'},\n",
       "    'screen_time_minutes': 85},\n",
       "   {'id': 'act_002',\n",
       "    'name': 'Chris Evans',\n",
       "    'character': {'name': 'Steve Rogers / Captain America',\n",
       "     'affiliations': ['Avengers'],\n",
       "     'status': 'Retired'},\n",
       "    'screen_time_minutes': 78},\n",
       "   {'id': 'act_003',\n",
       "    'name': 'Scarlett Johansson',\n",
       "    'character': {'name': 'Natasha Romanoff / Black Widow',\n",
       "     'affiliations': ['Avengers', 'S.H.I.E.L.D.'],\n",
       "     'status': 'Deceased'},\n",
       "    'screen_time_minutes': 60},\n",
       "   {'id': 'act_004',\n",
       "    'name': 'Mark Ruffalo',\n",
       "    'character': {'name': 'Bruce Banner / Hulk',\n",
       "     'affiliations': ['Avengers'],\n",
       "     'status': 'Alive'},\n",
       "    'screen_time_minutes': 70},\n",
       "   {'id': 'act_005',\n",
       "    'name': 'Chris Hemsworth',\n",
       "    'character': {'name': 'Thor',\n",
       "     'affiliations': ['Avengers', 'Asgardians'],\n",
       "     'status': 'Alive'},\n",
       "    'screen_time_minutes': 65}],\n",
       "  'plot_summary': {'acts': [{'act': 1,\n",
       "     'summary': 'The Avengers find and confront Thanos, but discover he has destroyed the Infinity Stones.'},\n",
       "    {'act': 2,\n",
       "     'summary': \"They devise a 'Time Heist' to retrieve the Stones from the past and undo the Snap.\"},\n",
       "    {'act': 3,\n",
       "     'summary': \"Thanos from 2014 attacks the Avengers' base, leading to the climactic battle and Tony Stark's sacrifice.\"}]},\n",
       "  'awards': [{'name': 'Academy Awards',\n",
       "    'year': 2020,\n",
       "    'nominations': ['Best Visual Effects']},\n",
       "   {'name': 'MTV Movie & TV Awards',\n",
       "    'year': 2019,\n",
       "    'nominations': ['Best Movie', 'Best Hero (Robert Downey Jr.)'],\n",
       "    'wins': ['Best Movie']}],\n",
       "  'related_movies': {'prequels': [{'id': 'mv_0002',\n",
       "     'title': 'Avengers: Infinity War',\n",
       "     'release_year': 2018}],\n",
       "   'sequels': [],\n",
       "   'shared_universe': 'Marvel Cinematic Universe'},\n",
       "  'external_links': {'imdb': 'https://www.imdb.com/title/tt4154796/',\n",
       "   'official_site': 'https://www.marvel.com/movies/avengers-endgame',\n",
       "   'trailer': 'https://www.youtube.com/watch?v=TcMBFSGVi1c'},\n",
       "  'metadata': {'created_at': '2025-10-22T09:30:00Z',\n",
       "   'last_updated_at': '2025-10-22T09:31:00Z',\n",
       "   'schema_version': '1.2.0',\n",
       "   'data_source': 'Marvel Cinematic Universe API'}}}"
      ]
     },
     "execution_count": 32,
     "metadata": {},
     "output_type": "execute_result"
    }
   ],
   "source": [
    "avengers_dict"
   ]
  },
  {
   "cell_type": "code",
   "execution_count": 34,
   "id": "4ce8aa0f",
   "metadata": {},
   "outputs": [
    {
     "data": {
      "text/plain": [
       "2797962000"
      ]
     },
     "execution_count": 34,
     "metadata": {},
     "output_type": "execute_result"
    }
   ],
   "source": [
    "avengers_dict['movie']['production']['box_office']['worldwide']"
   ]
  },
  {
   "cell_type": "code",
   "execution_count": 35,
   "id": "b2e5c84e",
   "metadata": {},
   "outputs": [
    {
     "data": {
      "text/plain": [
       "'Anthony Russo'"
      ]
     },
     "execution_count": 35,
     "metadata": {},
     "output_type": "execute_result"
    }
   ],
   "source": [
    "avengers_dict['movie']['crew']['directors'][0]['name']"
   ]
  }
 ],
 "metadata": {
  "kernelspec": {
   "display_name": ".venv",
   "language": "python",
   "name": "python3"
  },
  "language_info": {
   "codemirror_mode": {
    "name": "ipython",
    "version": 3
   },
   "file_extension": ".py",
   "mimetype": "text/x-python",
   "name": "python",
   "nbconvert_exporter": "python",
   "pygments_lexer": "ipython3",
   "version": "3.13.5"
  }
 },
 "nbformat": 4,
 "nbformat_minor": 5
}

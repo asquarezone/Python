{
 "cells": [
  {
   "cell_type": "markdown",
   "id": "1d0d5c24",
   "metadata": {},
   "source": [
    "# Numeric datatypes\n",
    "\n",
    "* int\n",
    "* float\n",
    "* complex"
   ]
  },
  {
   "cell_type": "code",
   "execution_count": null,
   "id": "86fb23c9",
   "metadata": {},
   "outputs": [
    {
     "data": {
      "text/plain": [
       "78.5"
      ]
     },
     "execution_count": 1,
     "metadata": {},
     "output_type": "execute_result"
    }
   ],
   "source": [
    "# variable assigned with float value\n",
    "pi = 3.14\n",
    "# variable assigned with integer value\n",
    "radius = 5\n",
    "# calcuate area with standard formula\n",
    "area = pi * radius * radius\n",
    "# printing the area\n",
    "area"
   ]
  },
  {
   "cell_type": "code",
   "execution_count": 2,
   "id": "e370817d",
   "metadata": {},
   "outputs": [
    {
     "data": {
      "text/plain": [
       "float"
      ]
     },
     "execution_count": 2,
     "metadata": {},
     "output_type": "execute_result"
    }
   ],
   "source": [
    "type(pi)"
   ]
  },
  {
   "cell_type": "code",
   "execution_count": 3,
   "id": "d0ee425e",
   "metadata": {},
   "outputs": [
    {
     "data": {
      "text/plain": [
       "int"
      ]
     },
     "execution_count": 3,
     "metadata": {},
     "output_type": "execute_result"
    }
   ],
   "source": [
    "type(radius)"
   ]
  },
  {
   "cell_type": "code",
   "execution_count": 4,
   "id": "e0e3da60",
   "metadata": {},
   "outputs": [
    {
     "data": {
      "text/plain": [
       "float"
      ]
     },
     "execution_count": 4,
     "metadata": {},
     "output_type": "execute_result"
    }
   ],
   "source": [
    "type(area)"
   ]
  },
  {
   "cell_type": "code",
   "execution_count": null,
   "id": "75ab5278",
   "metadata": {},
   "outputs": [],
   "source": [
    "# type hints\n",
    "pi: float = 3.14\n",
    "radius: float = 5\n",
    "area: float = pi * radius * radius"
   ]
  },
  {
   "cell_type": "code",
   "execution_count": 5,
   "id": "ee06cf5e",
   "metadata": {},
   "outputs": [],
   "source": [
    "# Arthimetic operators\n",
    "maths: int = 97\n",
    "science: int = 81\n",
    "social: int = 83"
   ]
  },
  {
   "cell_type": "code",
   "execution_count": 6,
   "id": "041a53cc",
   "metadata": {},
   "outputs": [
    {
     "data": {
      "text/plain": [
       "261"
      ]
     },
     "execution_count": 6,
     "metadata": {},
     "output_type": "execute_result"
    }
   ],
   "source": [
    "marks: int = maths + science + social\n",
    "marks"
   ]
  },
  {
   "cell_type": "code",
   "execution_count": null,
   "id": "ef038992",
   "metadata": {},
   "outputs": [
    {
     "data": {
      "text/plain": [
       "87.0"
      ]
     },
     "execution_count": 8,
     "metadata": {},
     "output_type": "execute_result"
    }
   ],
   "source": [
    "# average\n",
    "marks / 300 * 100"
   ]
  },
  {
   "cell_type": "code",
   "execution_count": 9,
   "id": "6c0ffb14",
   "metadata": {},
   "outputs": [
    {
     "data": {
      "text/plain": [
       "78.5"
      ]
     },
     "execution_count": 9,
     "metadata": {},
     "output_type": "execute_result"
    }
   ],
   "source": [
    "pi * radius ** 2"
   ]
  },
  {
   "cell_type": "code",
   "execution_count": 10,
   "id": "de422518",
   "metadata": {},
   "outputs": [
    {
     "data": {
      "text/plain": [
       "1"
      ]
     },
     "execution_count": 10,
     "metadata": {},
     "output_type": "execute_result"
    }
   ],
   "source": [
    "number: int = 17\n",
    "number % 2"
   ]
  },
  {
   "cell_type": "code",
   "execution_count": 11,
   "id": "ef16218b",
   "metadata": {},
   "outputs": [
    {
     "data": {
      "text/plain": [
       "0"
      ]
     },
     "execution_count": 11,
     "metadata": {},
     "output_type": "execute_result"
    }
   ],
   "source": [
    "number: int = 18\n",
    "number % 2"
   ]
  },
  {
   "cell_type": "code",
   "execution_count": 12,
   "id": "1cb98820",
   "metadata": {},
   "outputs": [
    {
     "data": {
      "text/plain": [
       "1"
      ]
     },
     "execution_count": 12,
     "metadata": {},
     "output_type": "execute_result"
    }
   ],
   "source": [
    "4 // 3"
   ]
  },
  {
   "cell_type": "code",
   "execution_count": 13,
   "id": "48247f23",
   "metadata": {},
   "outputs": [
    {
     "data": {
      "text/plain": [
       "1.3333333333333333"
      ]
     },
     "execution_count": 13,
     "metadata": {},
     "output_type": "execute_result"
    }
   ],
   "source": [
    "4 / 3"
   ]
  },
  {
   "cell_type": "code",
   "execution_count": 14,
   "id": "205f0b38",
   "metadata": {},
   "outputs": [
    {
     "name": "stdout",
     "output_type": "stream",
     "text": [
      "5\n",
      "5\n"
     ]
    },
    {
     "data": {
      "text/plain": [
       "6"
      ]
     },
     "execution_count": 14,
     "metadata": {},
     "output_type": "execute_result"
    }
   ],
   "source": [
    "x = 5\n",
    "y = x\n",
    "z = y + 1\n",
    "print(x)\n",
    "print(y)\n",
    "z"
   ]
  },
  {
   "cell_type": "code",
   "execution_count": 22,
   "id": "7689d6fa",
   "metadata": {},
   "outputs": [
    {
     "data": {
      "text/plain": [
       "25"
      ]
     },
     "execution_count": 22,
     "metadata": {},
     "output_type": "execute_result"
    }
   ],
   "source": [
    "n = 5\n",
    "n = n ** 2\n",
    "n"
   ]
  },
  {
   "cell_type": "code",
   "execution_count": 23,
   "id": "6c562677",
   "metadata": {},
   "outputs": [
    {
     "data": {
      "text/plain": [
       "25"
      ]
     },
     "execution_count": 23,
     "metadata": {},
     "output_type": "execute_result"
    }
   ],
   "source": [
    "n = 5\n",
    "n **= 2\n",
    "n"
   ]
  },
  {
   "cell_type": "code",
   "execution_count": 24,
   "id": "ede1fa85",
   "metadata": {},
   "outputs": [
    {
     "data": {
      "text/plain": [
       "False"
      ]
     },
     "execution_count": 24,
     "metadata": {},
     "output_type": "execute_result"
    }
   ],
   "source": [
    "n = 17\n",
    "n % 2 == 0"
   ]
  },
  {
   "cell_type": "code",
   "execution_count": 25,
   "id": "3b13d634",
   "metadata": {},
   "outputs": [
    {
     "data": {
      "text/plain": [
       "True"
      ]
     },
     "execution_count": 25,
     "metadata": {},
     "output_type": "execute_result"
    }
   ],
   "source": [
    "n = 18\n",
    "n % 2 == 0"
   ]
  },
  {
   "cell_type": "code",
   "execution_count": 30,
   "id": "4a2e1489",
   "metadata": {},
   "outputs": [
    {
     "data": {
      "text/plain": [
       "False"
      ]
     },
     "execution_count": 30,
     "metadata": {},
     "output_type": "execute_result"
    }
   ],
   "source": [
    "# x is greater than 5 and x is even\n",
    "x = 9\n",
    "x > 5 and x % 2 == 0"
   ]
  },
  {
   "cell_type": "code",
   "execution_count": 31,
   "id": "add0d715",
   "metadata": {},
   "outputs": [
    {
     "data": {
      "text/plain": [
       "True"
      ]
     },
     "execution_count": 31,
     "metadata": {},
     "output_type": "execute_result"
    }
   ],
   "source": [
    "x = 9\n",
    "x > 5 or x % 2 == 0"
   ]
  },
  {
   "cell_type": "code",
   "execution_count": 32,
   "id": "62197a5b",
   "metadata": {},
   "outputs": [
    {
     "data": {
      "text/plain": [
       "False"
      ]
     },
     "execution_count": 32,
     "metadata": {},
     "output_type": "execute_result"
    }
   ],
   "source": [
    "x = 9\n",
    "not x > 5 or x % 2 == 0"
   ]
  },
  {
   "cell_type": "code",
   "execution_count": 35,
   "id": "0337f874",
   "metadata": {},
   "outputs": [
    {
     "name": "stdout",
     "output_type": "stream",
     "text": [
      "17\n"
     ]
    },
    {
     "data": {
      "text/plain": [
       "False"
      ]
     },
     "execution_count": 35,
     "metadata": {},
     "output_type": "execute_result"
    }
   ],
   "source": [
    "# multiple of 3 or 5\n",
    "number = int(input(\"Enter any number \"))\n",
    "print(number)\n",
    "number % 3 == 0 or number % 5 == 0"
   ]
  },
  {
   "cell_type": "code",
   "execution_count": null,
   "id": "903f34e0",
   "metadata": {},
   "outputs": [],
   "source": [
    "# Calculate \n",
    "# simple intrest, \n",
    "# compound intrest\n",
    "# Convert kilogram into pounds\n",
    "# Convert yards into feet\n"
   ]
  },
  {
   "cell_type": "code",
   "execution_count": null,
   "id": "d2295344",
   "metadata": {},
   "outputs": [],
   "source": [
    "x = 3 * 5 + 6 // 8 - 7 * 10 + 100\n",
    "x"
   ]
  },
  {
   "cell_type": "code",
   "execution_count": null,
   "id": "b33e2fef",
   "metadata": {},
   "outputs": [],
   "source": [
    "x = 3 * (5 + 6) // 8 - (7 * 10 + 100)\n",
    "x"
   ]
  }
 ],
 "metadata": {
  "kernelspec": {
   "display_name": "Python 3",
   "language": "python",
   "name": "python3"
  },
  "language_info": {
   "codemirror_mode": {
    "name": "ipython",
    "version": 3
   },
   "file_extension": ".py",
   "mimetype": "text/x-python",
   "name": "python",
   "nbconvert_exporter": "python",
   "pygments_lexer": "ipython3",
   "version": "3.11.9"
  }
 },
 "nbformat": 4,
 "nbformat_minor": 5
}

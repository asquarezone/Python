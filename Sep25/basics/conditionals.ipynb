{
 "cells": [
  {
   "cell_type": "markdown",
   "id": "b92ed1bb",
   "metadata": {},
   "source": [
    "| Marks  | Grade | Grade Point |\n",
    "|--------|--------|-------------|\n",
    "| 91–100 | A1     | 10.0        |\n",
    "| 81–90  | A2     | 9.0         |\n",
    "| 71–80  | B1     | 8.0         |\n",
    "| 61–70  | B2     | 7.0         |\n",
    "| 51–60  | C1     | 6.0         |\n",
    "| 41–50  | C2     | 5.0         |\n",
    "| 33–40  | D      | 4.0         |\n",
    "| 21–32  | E1     | Fail        |\n",
    "| 0–20   | E2     | Fail        |\n"
   ]
  },
  {
   "cell_type": "code",
   "execution_count": 1,
   "id": "680eef5a",
   "metadata": {},
   "outputs": [],
   "source": [
    "marks = int(input('Enter the marks: '))"
   ]
  },
  {
   "cell_type": "code",
   "execution_count": 3,
   "id": "0433dd73",
   "metadata": {},
   "outputs": [
    {
     "data": {
      "text/plain": [
       "True"
      ]
     },
     "execution_count": 3,
     "metadata": {},
     "output_type": "execute_result"
    }
   ],
   "source": [
    "marks > 80 and marks <=90"
   ]
  },
  {
   "cell_type": "code",
   "execution_count": 4,
   "id": "d389e436",
   "metadata": {},
   "outputs": [
    {
     "data": {
      "text/plain": [
       "True"
      ]
     },
     "execution_count": 4,
     "metadata": {},
     "output_type": "execute_result"
    }
   ],
   "source": [
    "80 < marks <= 90"
   ]
  },
  {
   "cell_type": "code",
   "execution_count": 6,
   "id": "c481230e",
   "metadata": {},
   "outputs": [
    {
     "name": "stdout",
     "output_type": "stream",
     "text": [
      "A2\n"
     ]
    }
   ],
   "source": [
    "if 90 < marks <= 100:\n",
    "    print(\"A1\")\n",
    "if 80 < marks <= 90:\n",
    "    print(\"A2\")\n",
    "if 70 < marks <= 80:\n",
    "    print(\"B1\")\n",
    "if 60 < marks <= 70:\n",
    "    print(\"B2\")\n",
    "if 50 < marks <= 60:\n",
    "    print(\"C1\")\n",
    "if 40 < marks <= 50:\n",
    "    print(\"C2\")\n",
    "if 32 < marks <= 40:\n",
    "    print(\"D\")\n",
    "if 21 < marks <= 32:\n",
    "    print(\"E1\")\n",
    "if 0 <= marks <= 20:\n",
    "    print(\"E2\")"
   ]
  },
  {
   "cell_type": "code",
   "execution_count": 7,
   "id": "6ac4eab8",
   "metadata": {},
   "outputs": [
    {
     "name": "stdout",
     "output_type": "stream",
     "text": [
      "A2\n"
     ]
    }
   ],
   "source": [
    "if 90 < marks <= 100:\n",
    "    print(\"A1\")\n",
    "elif 80 < marks <= 90:\n",
    "    print(\"A2\")\n",
    "elif 70 < marks <= 80:\n",
    "    print(\"B1\")\n",
    "elif 60 < marks <= 70:\n",
    "    print(\"B2\")\n",
    "elif 50 < marks <= 60:\n",
    "    print(\"C1\")\n",
    "elif 40 < marks <= 50:\n",
    "    print(\"C2\")\n",
    "elif 32 < marks <= 40:\n",
    "    print(\"D\")\n",
    "elif 21 < marks <= 32:\n",
    "    print(\"E1\")\n",
    "elif 0 <= marks <= 20:\n",
    "    print(\"E2\")"
   ]
  },
  {
   "cell_type": "code",
   "execution_count": null,
   "id": "fdaa78f5",
   "metadata": {},
   "outputs": [
    {
     "name": "stdout",
     "output_type": "stream",
     "text": [
      "30%\n"
     ]
    },
    {
     "ename": "",
     "evalue": "",
     "output_type": "error",
     "traceback": [
      "\u001b[1;31mThe Kernel crashed while executing code in the current cell or a previous cell. \n",
      "\u001b[1;31mPlease review the code in the cell(s) to identify a possible cause of the failure. \n",
      "\u001b[1;31mClick <a href='https://aka.ms/vscodeJupyterKernelCrash'>here</a> for more info. \n",
      "\u001b[1;31mView Jupyter <a href='command:jupyter.viewOutput'>log</a> for further details."
     ]
    }
   ],
   "source": [
    "salary_in_lakhs = 76\n",
    "if 0 <= salary_in_lakhs <= 4:\n",
    "    print(\"0%\")\n",
    "elif 4 < salary_in_lakhs <= 8:\n",
    "    print(\"5%\")\n",
    "elif 8 < salary_in_lakhs <= 12:\n",
    "    print(\"10%\")\n",
    "elif 12 < salary_in_lakhs <= 16:\n",
    "    print(\"15%\")\n",
    "elif 16 < salary_in_lakhs <= 20:\n",
    "    print(\"20%\")\n",
    "elif 20 < salary_in_lakhs <= 24:\n",
    "    print(\"25%\")\n",
    "elif salary_in_lakhs > 24 :\n",
    "    print(\"30%\")\n",
    "else:\n",
    "    print(\"invalid value\")"
   ]
  }
 ],
 "metadata": {
  "kernelspec": {
   "display_name": "Python 3",
   "language": "python",
   "name": "python3"
  },
  "language_info": {
   "codemirror_mode": {
    "name": "ipython",
    "version": 3
   },
   "file_extension": ".py",
   "mimetype": "text/x-python",
   "name": "python",
   "nbconvert_exporter": "python",
   "pygments_lexer": "ipython3",
   "version": "3.11.9"
  }
 },
 "nbformat": 4,
 "nbformat_minor": 5
}

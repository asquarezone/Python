{
 "cells": [
  {
   "cell_type": "markdown",
   "id": "39d94793",
   "metadata": {},
   "source": [
    "## Overview of standard library\n",
    "\n",
    "\n",
    "* Use this prompt `Summarize python standard library in a tabular format with library and its purpose`"
   ]
  },
  {
   "cell_type": "code",
   "execution_count": 2,
   "id": "2914d2cb",
   "metadata": {},
   "outputs": [],
   "source": [
    "## Lets use the os module\n",
    "\n",
    "import os"
   ]
  },
  {
   "cell_type": "code",
   "execution_count": 3,
   "id": "470013ed",
   "metadata": {},
   "outputs": [
    {
     "data": {
      "text/plain": [
       "'c:\\\\Python311;c:\\\\Users\\\\DELL\\\\AppData\\\\Roaming\\\\Python\\\\Python311\\\\Scripts;C:\\\\Program Files\\\\Microsoft SDKs\\\\Azure\\\\CLI2\\\\wbin;C:\\\\Python311\\\\Scripts\\\\;C:\\\\Python311\\\\;C:\\\\Windows\\\\system32;C:\\\\Windows;C:\\\\Windows\\\\System32\\\\Wbem;C:\\\\Windows\\\\System32\\\\WindowsPowerShell\\\\v1.0\\\\;C:\\\\Windows\\\\System32\\\\OpenSSH\\\\;C:\\\\Program Files\\\\dotnet\\\\;C:\\\\ProgramData\\\\chocolatey\\\\bin;C:\\\\Program Files\\\\Git\\\\cmd;C:\\\\Program Files\\\\Microsoft VS Code\\\\bin;C:\\\\Program Files\\\\Amazon\\\\AWSCLIV2\\\\;C:\\\\Program Files\\\\Meld\\\\;C:\\\\Users\\\\DELL\\\\AppData\\\\Local\\\\nvm;C:\\\\nvm4w\\\\nodejs;C:\\\\Program Files\\\\OpenJDK\\\\jdk-17.0.2\\\\bin;C:\\\\ProgramData\\\\chocolatey\\\\lib\\\\maven\\\\apache-maven-3.9.9\\\\bin;C:\\\\Program Files (x86)\\\\Google\\\\Cloud SDK\\\\google-cloud-sdk\\\\bin;C:\\\\Windows\\\\system32\\\\config\\\\systemprofile\\\\AppData\\\\Local\\\\Microsoft\\\\WindowsApps;C:\\\\Users\\\\DELL\\\\AppData\\\\Local\\\\Programs\\\\Azure Data Studio\\\\bin;C:\\\\Windows\\\\system32\\\\config\\\\systemprofile\\\\.dotnet\\\\tools;C:\\\\Users\\\\DELL\\\\AppData\\\\Local\\\\Microsoft\\\\WinGet\\\\Links;C:\\\\Users\\\\DELL\\\\AppData\\\\Local\\\\Programs\\\\Lens\\\\resources\\\\cli\\\\bin;C:\\\\Users\\\\DELL\\\\AppData\\\\Local\\\\Microsoft\\\\WindowsApps;C:\\\\Users\\\\DELL\\\\AppData\\\\Local\\\\nvm;C:\\\\nvm4w\\\\nodejs;C:\\\\Users\\\\DELL\\\\AppData\\\\Local\\\\Programs\\\\Ollama;C:\\\\Users\\\\DELL\\\\.dotnet\\\\tools;C:\\\\Users\\\\DELL\\\\AppData\\\\Local\\\\Microsoft\\\\WinGet\\\\Packages\\\\eksctl.eksctl_Microsoft.Winget.Source_8wekyb3d8bbwe;;C:\\\\Program Files\\\\Microsoft SDKs\\\\Azure\\\\CLI2\\\\wbin;C:\\\\Python311\\\\Scripts\\\\;C:\\\\Python311\\\\;C:\\\\Windows\\\\system32;C:\\\\Windows;C:\\\\Windows\\\\System32\\\\Wbem;C:\\\\Windows\\\\System32\\\\WindowsPowerShell\\\\v1.0\\\\;C:\\\\Windows\\\\System32\\\\OpenSSH\\\\;C:\\\\Program Files\\\\dotnet\\\\;C:\\\\ProgramData\\\\chocolatey\\\\bin;C:\\\\Program Files\\\\Git\\\\cmd;C:\\\\Program Files\\\\Microsoft VS Code\\\\bin;C:\\\\Program Files\\\\Amazon\\\\AWSCLIV2\\\\;C:\\\\Program Files\\\\Meld\\\\;C:\\\\Users\\\\DELL\\\\AppData\\\\Local\\\\nvm;C:\\\\nvm4w\\\\nodejs;C:\\\\Program Files\\\\OpenJDK\\\\jdk-17.0.2\\\\bin;C:\\\\ProgramData\\\\chocolatey\\\\lib\\\\maven\\\\apache-maven-3.9.9\\\\bin;C:\\\\Program Files (x86)\\\\Google\\\\Cloud SDK\\\\google-cloud-sdk\\\\bin;C:\\\\Windows\\\\system32\\\\config\\\\systemprofile\\\\AppData\\\\Local\\\\Microsoft\\\\WindowsApps;C:\\\\Users\\\\DELL\\\\AppData\\\\Local\\\\Programs\\\\Azure Data Studio\\\\bin;C:\\\\Windows\\\\system32\\\\config\\\\systemprofile\\\\.dotnet\\\\tools;C:\\\\Users\\\\DELL\\\\AppData\\\\Local\\\\Microsoft\\\\WinGet\\\\Links;C:\\\\Users\\\\DELL\\\\AppData\\\\Local\\\\Programs\\\\Lens\\\\resources\\\\cli\\\\bin;C:\\\\Users\\\\DELL\\\\AppData\\\\Local\\\\Microsoft\\\\WindowsApps;C:\\\\Users\\\\DELL\\\\AppData\\\\Local\\\\nvm;C:\\\\nvm4w\\\\nodejs;C:\\\\Users\\\\DELL\\\\AppData\\\\Local\\\\Programs\\\\Ollama;C:\\\\Users\\\\DELL\\\\.dotnet\\\\tools;C:\\\\Users\\\\DELL\\\\AppData\\\\Local\\\\Microsoft\\\\WinGet\\\\Packages\\\\eksctl.eksctl_Microsoft.Winget.Source_8wekyb3d8bbwe;'"
      ]
     },
     "execution_count": 3,
     "metadata": {},
     "output_type": "execute_result"
    }
   ],
   "source": [
    "## Environmental variables\n",
    "os.environ.get('PATH')"
   ]
  },
  {
   "cell_type": "code",
   "execution_count": 4,
   "id": "f500c2cf",
   "metadata": {},
   "outputs": [
    {
     "name": "stdout",
     "output_type": "stream",
     "text": [
      "c:\\Python311\n",
      "c:\\Users\\DELL\\AppData\\Roaming\\Python\\Python311\\Scripts\n",
      "C:\\Program Files\\Microsoft SDKs\\Azure\\CLI2\\wbin\n",
      "C:\\Python311\\Scripts\\\n",
      "C:\\Python311\\\n",
      "C:\\Windows\\system32\n",
      "C:\\Windows\n",
      "C:\\Windows\\System32\\Wbem\n",
      "C:\\Windows\\System32\\WindowsPowerShell\\v1.0\\\n",
      "C:\\Windows\\System32\\OpenSSH\\\n",
      "C:\\Program Files\\dotnet\\\n",
      "C:\\ProgramData\\chocolatey\\bin\n",
      "C:\\Program Files\\Git\\cmd\n",
      "C:\\Program Files\\Microsoft VS Code\\bin\n",
      "C:\\Program Files\\Amazon\\AWSCLIV2\\\n",
      "C:\\Program Files\\Meld\\\n",
      "C:\\Users\\DELL\\AppData\\Local\\nvm\n",
      "C:\\nvm4w\\nodejs\n",
      "C:\\Program Files\\OpenJDK\\jdk-17.0.2\\bin\n",
      "C:\\ProgramData\\chocolatey\\lib\\maven\\apache-maven-3.9.9\\bin\n",
      "C:\\Program Files (x86)\\Google\\Cloud SDK\\google-cloud-sdk\\bin\n",
      "C:\\Windows\\system32\\config\\systemprofile\\AppData\\Local\\Microsoft\\WindowsApps\n",
      "C:\\Users\\DELL\\AppData\\Local\\Programs\\Azure Data Studio\\bin\n",
      "C:\\Windows\\system32\\config\\systemprofile\\.dotnet\\tools\n",
      "C:\\Users\\DELL\\AppData\\Local\\Microsoft\\WinGet\\Links\n",
      "C:\\Users\\DELL\\AppData\\Local\\Programs\\Lens\\resources\\cli\\bin\n",
      "C:\\Users\\DELL\\AppData\\Local\\Microsoft\\WindowsApps\n",
      "C:\\Users\\DELL\\AppData\\Local\\nvm\n",
      "C:\\nvm4w\\nodejs\n",
      "C:\\Users\\DELL\\AppData\\Local\\Programs\\Ollama\n",
      "C:\\Users\\DELL\\.dotnet\\tools\n",
      "C:\\Users\\DELL\\AppData\\Local\\Microsoft\\WinGet\\Packages\\eksctl.eksctl_Microsoft.Winget.Source_8wekyb3d8bbwe\n",
      "\n",
      "C:\\Program Files\\Microsoft SDKs\\Azure\\CLI2\\wbin\n",
      "C:\\Python311\\Scripts\\\n",
      "C:\\Python311\\\n",
      "C:\\Windows\\system32\n",
      "C:\\Windows\n",
      "C:\\Windows\\System32\\Wbem\n",
      "C:\\Windows\\System32\\WindowsPowerShell\\v1.0\\\n",
      "C:\\Windows\\System32\\OpenSSH\\\n",
      "C:\\Program Files\\dotnet\\\n",
      "C:\\ProgramData\\chocolatey\\bin\n",
      "C:\\Program Files\\Git\\cmd\n",
      "C:\\Program Files\\Microsoft VS Code\\bin\n",
      "C:\\Program Files\\Amazon\\AWSCLIV2\\\n",
      "C:\\Program Files\\Meld\\\n",
      "C:\\Users\\DELL\\AppData\\Local\\nvm\n",
      "C:\\nvm4w\\nodejs\n",
      "C:\\Program Files\\OpenJDK\\jdk-17.0.2\\bin\n",
      "C:\\ProgramData\\chocolatey\\lib\\maven\\apache-maven-3.9.9\\bin\n",
      "C:\\Program Files (x86)\\Google\\Cloud SDK\\google-cloud-sdk\\bin\n",
      "C:\\Windows\\system32\\config\\systemprofile\\AppData\\Local\\Microsoft\\WindowsApps\n",
      "C:\\Users\\DELL\\AppData\\Local\\Programs\\Azure Data Studio\\bin\n",
      "C:\\Windows\\system32\\config\\systemprofile\\.dotnet\\tools\n",
      "C:\\Users\\DELL\\AppData\\Local\\Microsoft\\WinGet\\Links\n",
      "C:\\Users\\DELL\\AppData\\Local\\Programs\\Lens\\resources\\cli\\bin\n",
      "C:\\Users\\DELL\\AppData\\Local\\Microsoft\\WindowsApps\n",
      "C:\\Users\\DELL\\AppData\\Local\\nvm\n",
      "C:\\nvm4w\\nodejs\n",
      "C:\\Users\\DELL\\AppData\\Local\\Programs\\Ollama\n",
      "C:\\Users\\DELL\\.dotnet\\tools\n",
      "C:\\Users\\DELL\\AppData\\Local\\Microsoft\\WinGet\\Packages\\eksctl.eksctl_Microsoft.Winget.Source_8wekyb3d8bbwe\n",
      "\n"
     ]
    }
   ],
   "source": [
    "for env in os.environ.get('PATH').split(';'):\n",
    "    print(env)"
   ]
  },
  {
   "cell_type": "code",
   "execution_count": 7,
   "id": "312d4390",
   "metadata": {},
   "outputs": [
    {
     "data": {
      "text/plain": [
       "'NOT_DEFINED'"
      ]
     },
     "execution_count": 7,
     "metadata": {},
     "output_type": "execute_result"
    }
   ],
   "source": [
    "os.getenv('JAVA1_HOME', 'NOT_DEFINED')"
   ]
  },
  {
   "cell_type": "code",
   "execution_count": 9,
   "id": "84bbe6a0",
   "metadata": {},
   "outputs": [],
   "source": [
    "os.getenv('MYENV-1')"
   ]
  },
  {
   "cell_type": "code",
   "execution_count": 10,
   "id": "273a7769",
   "metadata": {},
   "outputs": [
    {
     "data": {
      "text/plain": [
       "'VAL-1'"
      ]
     },
     "execution_count": 10,
     "metadata": {},
     "output_type": "execute_result"
    }
   ],
   "source": [
    "os.environ.setdefault('MYENV-1', 'VAL-1')"
   ]
  },
  {
   "cell_type": "code",
   "execution_count": 11,
   "id": "0fb6ba78",
   "metadata": {},
   "outputs": [
    {
     "data": {
      "text/plain": [
       "'VAL-1'"
      ]
     },
     "execution_count": 11,
     "metadata": {},
     "output_type": "execute_result"
    }
   ],
   "source": [
    "os.getenv('MYENV-1')"
   ]
  },
  {
   "cell_type": "code",
   "execution_count": 12,
   "id": "5ef1c4cc",
   "metadata": {},
   "outputs": [],
   "source": [
    "# Dealing with paths\n",
    "\n",
    "from os import path"
   ]
  },
  {
   "cell_type": "code",
   "execution_count": 15,
   "id": "6dfdb925",
   "metadata": {},
   "outputs": [
    {
     "data": {
      "text/plain": [
       "module"
      ]
     },
     "execution_count": 15,
     "metadata": {},
     "output_type": "execute_result"
    }
   ],
   "source": [
    "type(path)"
   ]
  },
  {
   "cell_type": "code",
   "execution_count": 16,
   "id": "89655739",
   "metadata": {},
   "outputs": [
    {
     "data": {
      "text/plain": [
       "False"
      ]
     },
     "execution_count": 16,
     "metadata": {},
     "output_type": "execute_result"
    }
   ],
   "source": [
    "os.path.exists('notes.txt')"
   ]
  },
  {
   "cell_type": "code",
   "execution_count": 17,
   "id": "e4dae623",
   "metadata": {},
   "outputs": [
    {
     "data": {
      "text/plain": [
       "True"
      ]
     },
     "execution_count": 17,
     "metadata": {},
     "output_type": "execute_result"
    }
   ],
   "source": [
    "os.path.exists('fix.ipynb')"
   ]
  },
  {
   "cell_type": "markdown",
   "id": "0cb3ba1f",
   "metadata": {},
   "source": [
    "### Lets do this activity\n",
    "* Create the following structure\n",
    "```\n",
    "basics/\n",
    "├── docs/\n",
    "│   ├── introduction.md        # Overview of the project\n",
    "│   ├── architecture.md        # System architecture explanation\n",
    "│   ├── api-guide.md           # API usage instructions\n",
    "│   └── notes/\n",
    "│       └── requirements.md  \n",
    "```"
   ]
  },
  {
   "cell_type": "code",
   "execution_count": 31,
   "id": "093ef035",
   "metadata": {},
   "outputs": [],
   "source": [
    "import pathlib\n",
    "if not os.path.exists('docs'):\n",
    "    os.makedirs(name='docs')\n",
    "    os.makedirs(name='docs/notes')\n",
    "    files = ('introduction.md', 'architecture.md', 'api-guide.md' )\n",
    "    for file in files:\n",
    "        pathlib.Path.touch(\"./docs/\"+file)\n",
    "    pathlib.Path.touch('./docs/notes/requirements.md')\n"
   ]
  },
  {
   "cell_type": "code",
   "execution_count": null,
   "id": "0f9b046a",
   "metadata": {},
   "outputs": [
    {
     "data": {
      "text/plain": [
       "'c:\\\\khajaclassroom\\\\Python\\\\Sep25\\\\basics'"
      ]
     },
     "execution_count": 24,
     "metadata": {},
     "output_type": "execute_result"
    }
   ],
   "source": [
    "# absolute path\n",
    "os.getcwd()"
   ]
  },
  {
   "cell_type": "code",
   "execution_count": 26,
   "id": "adddf566",
   "metadata": {},
   "outputs": [
    {
     "data": {
      "text/plain": [
       "'.'"
      ]
     },
     "execution_count": 26,
     "metadata": {},
     "output_type": "execute_result"
    }
   ],
   "source": [
    "# relative path\n",
    "os.path.curdir"
   ]
  },
  {
   "cell_type": "code",
   "execution_count": 27,
   "id": "fa042795",
   "metadata": {},
   "outputs": [
    {
     "data": {
      "text/plain": [
       "'c:\\\\khajaclassroom\\\\Python\\\\Sep25\\\\basics'"
      ]
     },
     "execution_count": 27,
     "metadata": {},
     "output_type": "execute_result"
    }
   ],
   "source": [
    "os.path.abspath(\".\")"
   ]
  },
  {
   "cell_type": "code",
   "execution_count": 28,
   "id": "a2e1c18c",
   "metadata": {},
   "outputs": [
    {
     "data": {
      "text/plain": [
       "'c:\\\\khajaclassroom\\\\Python\\\\Sep25'"
      ]
     },
     "execution_count": 28,
     "metadata": {},
     "output_type": "execute_result"
    }
   ],
   "source": [
    "os.path.abspath(\"..\")"
   ]
  },
  {
   "cell_type": "code",
   "execution_count": 29,
   "id": "39eaec56",
   "metadata": {},
   "outputs": [
    {
     "data": {
      "text/plain": [
       "WindowsPath('C:/Users/DELL')"
      ]
     },
     "execution_count": 29,
     "metadata": {},
     "output_type": "execute_result"
    }
   ],
   "source": [
    "import pathlib\n",
    "pathlib.Path.home()"
   ]
  },
  {
   "cell_type": "code",
   "execution_count": 33,
   "id": "c8a53afc",
   "metadata": {},
   "outputs": [
    {
     "data": {
      "text/plain": [
       "0"
      ]
     },
     "execution_count": 33,
     "metadata": {},
     "output_type": "execute_result"
    }
   ],
   "source": [
    "os.system('echo hello')"
   ]
  },
  {
   "cell_type": "code",
   "execution_count": 34,
   "id": "80b356d4",
   "metadata": {},
   "outputs": [
    {
     "data": {
      "text/plain": [
       "1"
      ]
     },
     "execution_count": 34,
     "metadata": {},
     "output_type": "execute_result"
    }
   ],
   "source": [
    "os.system('echo1 hello')"
   ]
  },
  {
   "cell_type": "code",
   "execution_count": 36,
   "id": "659540a4",
   "metadata": {},
   "outputs": [
    {
     "ename": "FileNotFoundError",
     "evalue": "[WinError 2] The system cannot find the file specified",
     "output_type": "error",
     "traceback": [
      "\u001b[31m---------------------------------------------------------------------------\u001b[39m",
      "\u001b[31mFileNotFoundError\u001b[39m                         Traceback (most recent call last)",
      "\u001b[36mCell\u001b[39m\u001b[36m \u001b[39m\u001b[32mIn[36]\u001b[39m\u001b[32m, line 2\u001b[39m\n\u001b[32m      1\u001b[39m \u001b[38;5;28;01mimport\u001b[39;00m\u001b[38;5;250m \u001b[39m\u001b[34;01msubprocess\u001b[39;00m\n\u001b[32m----> \u001b[39m\u001b[32m2\u001b[39m \u001b[43msubprocess\u001b[49m\u001b[43m.\u001b[49m\u001b[43mPopen\u001b[49m\u001b[43m(\u001b[49m\u001b[33;43m'\u001b[39;49m\u001b[33;43mecho\u001b[39;49m\u001b[33;43m'\u001b[39;49m\u001b[43m)\u001b[49m\n",
      "\u001b[36mFile \u001b[39m\u001b[32mc:\\Python311\\Lib\\subprocess.py:1026\u001b[39m, in \u001b[36mPopen.__init__\u001b[39m\u001b[34m(self, args, bufsize, executable, stdin, stdout, stderr, preexec_fn, close_fds, shell, cwd, env, universal_newlines, startupinfo, creationflags, restore_signals, start_new_session, pass_fds, user, group, extra_groups, encoding, errors, text, umask, pipesize, process_group)\u001b[39m\n\u001b[32m   1022\u001b[39m         \u001b[38;5;28;01mif\u001b[39;00m \u001b[38;5;28mself\u001b[39m.text_mode:\n\u001b[32m   1023\u001b[39m             \u001b[38;5;28mself\u001b[39m.stderr = io.TextIOWrapper(\u001b[38;5;28mself\u001b[39m.stderr,\n\u001b[32m   1024\u001b[39m                     encoding=encoding, errors=errors)\n\u001b[32m-> \u001b[39m\u001b[32m1026\u001b[39m     \u001b[38;5;28;43mself\u001b[39;49m\u001b[43m.\u001b[49m\u001b[43m_execute_child\u001b[49m\u001b[43m(\u001b[49m\u001b[43margs\u001b[49m\u001b[43m,\u001b[49m\u001b[43m \u001b[49m\u001b[43mexecutable\u001b[49m\u001b[43m,\u001b[49m\u001b[43m \u001b[49m\u001b[43mpreexec_fn\u001b[49m\u001b[43m,\u001b[49m\u001b[43m \u001b[49m\u001b[43mclose_fds\u001b[49m\u001b[43m,\u001b[49m\n\u001b[32m   1027\u001b[39m \u001b[43m                        \u001b[49m\u001b[43mpass_fds\u001b[49m\u001b[43m,\u001b[49m\u001b[43m \u001b[49m\u001b[43mcwd\u001b[49m\u001b[43m,\u001b[49m\u001b[43m \u001b[49m\u001b[43menv\u001b[49m\u001b[43m,\u001b[49m\n\u001b[32m   1028\u001b[39m \u001b[43m                        \u001b[49m\u001b[43mstartupinfo\u001b[49m\u001b[43m,\u001b[49m\u001b[43m \u001b[49m\u001b[43mcreationflags\u001b[49m\u001b[43m,\u001b[49m\u001b[43m \u001b[49m\u001b[43mshell\u001b[49m\u001b[43m,\u001b[49m\n\u001b[32m   1029\u001b[39m \u001b[43m                        \u001b[49m\u001b[43mp2cread\u001b[49m\u001b[43m,\u001b[49m\u001b[43m \u001b[49m\u001b[43mp2cwrite\u001b[49m\u001b[43m,\u001b[49m\n\u001b[32m   1030\u001b[39m \u001b[43m                        \u001b[49m\u001b[43mc2pread\u001b[49m\u001b[43m,\u001b[49m\u001b[43m \u001b[49m\u001b[43mc2pwrite\u001b[49m\u001b[43m,\u001b[49m\n\u001b[32m   1031\u001b[39m \u001b[43m                        \u001b[49m\u001b[43merrread\u001b[49m\u001b[43m,\u001b[49m\u001b[43m \u001b[49m\u001b[43merrwrite\u001b[49m\u001b[43m,\u001b[49m\n\u001b[32m   1032\u001b[39m \u001b[43m                        \u001b[49m\u001b[43mrestore_signals\u001b[49m\u001b[43m,\u001b[49m\n\u001b[32m   1033\u001b[39m \u001b[43m                        \u001b[49m\u001b[43mgid\u001b[49m\u001b[43m,\u001b[49m\u001b[43m \u001b[49m\u001b[43mgids\u001b[49m\u001b[43m,\u001b[49m\u001b[43m \u001b[49m\u001b[43muid\u001b[49m\u001b[43m,\u001b[49m\u001b[43m \u001b[49m\u001b[43mumask\u001b[49m\u001b[43m,\u001b[49m\n\u001b[32m   1034\u001b[39m \u001b[43m                        \u001b[49m\u001b[43mstart_new_session\u001b[49m\u001b[43m,\u001b[49m\u001b[43m \u001b[49m\u001b[43mprocess_group\u001b[49m\u001b[43m)\u001b[49m\n\u001b[32m   1035\u001b[39m \u001b[38;5;28;01mexcept\u001b[39;00m:\n\u001b[32m   1036\u001b[39m     \u001b[38;5;66;03m# Cleanup if the child failed starting.\u001b[39;00m\n\u001b[32m   1037\u001b[39m     \u001b[38;5;28;01mfor\u001b[39;00m f \u001b[38;5;129;01min\u001b[39;00m \u001b[38;5;28mfilter\u001b[39m(\u001b[38;5;28;01mNone\u001b[39;00m, (\u001b[38;5;28mself\u001b[39m.stdin, \u001b[38;5;28mself\u001b[39m.stdout, \u001b[38;5;28mself\u001b[39m.stderr)):\n",
      "\u001b[36mFile \u001b[39m\u001b[32mc:\\Python311\\Lib\\subprocess.py:1538\u001b[39m, in \u001b[36mPopen._execute_child\u001b[39m\u001b[34m(self, args, executable, preexec_fn, close_fds, pass_fds, cwd, env, startupinfo, creationflags, shell, p2cread, p2cwrite, c2pread, c2pwrite, errread, errwrite, unused_restore_signals, unused_gid, unused_gids, unused_uid, unused_umask, unused_start_new_session, unused_process_group)\u001b[39m\n\u001b[32m   1536\u001b[39m \u001b[38;5;66;03m# Start the process\u001b[39;00m\n\u001b[32m   1537\u001b[39m \u001b[38;5;28;01mtry\u001b[39;00m:\n\u001b[32m-> \u001b[39m\u001b[32m1538\u001b[39m     hp, ht, pid, tid = \u001b[43m_winapi\u001b[49m\u001b[43m.\u001b[49m\u001b[43mCreateProcess\u001b[49m\u001b[43m(\u001b[49m\u001b[43mexecutable\u001b[49m\u001b[43m,\u001b[49m\u001b[43m \u001b[49m\u001b[43margs\u001b[49m\u001b[43m,\u001b[49m\n\u001b[32m   1539\u001b[39m \u001b[43m                             \u001b[49m\u001b[38;5;66;43;03m# no special security\u001b[39;49;00m\n\u001b[32m   1540\u001b[39m \u001b[43m                             \u001b[49m\u001b[38;5;28;43;01mNone\u001b[39;49;00m\u001b[43m,\u001b[49m\u001b[43m \u001b[49m\u001b[38;5;28;43;01mNone\u001b[39;49;00m\u001b[43m,\u001b[49m\n\u001b[32m   1541\u001b[39m \u001b[43m                             \u001b[49m\u001b[38;5;28;43mint\u001b[39;49m\u001b[43m(\u001b[49m\u001b[38;5;129;43;01mnot\u001b[39;49;00m\u001b[43m \u001b[49m\u001b[43mclose_fds\u001b[49m\u001b[43m)\u001b[49m\u001b[43m,\u001b[49m\n\u001b[32m   1542\u001b[39m \u001b[43m                             \u001b[49m\u001b[43mcreationflags\u001b[49m\u001b[43m,\u001b[49m\n\u001b[32m   1543\u001b[39m \u001b[43m                             \u001b[49m\u001b[43menv\u001b[49m\u001b[43m,\u001b[49m\n\u001b[32m   1544\u001b[39m \u001b[43m                             \u001b[49m\u001b[43mcwd\u001b[49m\u001b[43m,\u001b[49m\n\u001b[32m   1545\u001b[39m \u001b[43m                             \u001b[49m\u001b[43mstartupinfo\u001b[49m\u001b[43m)\u001b[49m\n\u001b[32m   1546\u001b[39m \u001b[38;5;28;01mfinally\u001b[39;00m:\n\u001b[32m   1547\u001b[39m     \u001b[38;5;66;03m# Child is launched. Close the parent's copy of those pipe\u001b[39;00m\n\u001b[32m   1548\u001b[39m     \u001b[38;5;66;03m# handles that only the child should have open.  You need\u001b[39;00m\n\u001b[32m   (...)\u001b[39m\u001b[32m   1551\u001b[39m     \u001b[38;5;66;03m# pipe will not close when the child process exits and the\u001b[39;00m\n\u001b[32m   1552\u001b[39m     \u001b[38;5;66;03m# ReadFile will hang.\u001b[39;00m\n\u001b[32m   1553\u001b[39m     \u001b[38;5;28mself\u001b[39m._close_pipe_fds(p2cread, p2cwrite,\n\u001b[32m   1554\u001b[39m                          c2pread, c2pwrite,\n\u001b[32m   1555\u001b[39m                          errread, errwrite)\n",
      "\u001b[31mFileNotFoundError\u001b[39m: [WinError 2] The system cannot find the file specified"
     ]
    }
   ],
   "source": [
    "import subprocess\n",
    "subprocess.Popen('echo')"
   ]
  }
 ],
 "metadata": {
  "kernelspec": {
   "display_name": "Python 3",
   "language": "python",
   "name": "python3"
  },
  "language_info": {
   "codemirror_mode": {
    "name": "ipython",
    "version": 3
   },
   "file_extension": ".py",
   "mimetype": "text/x-python",
   "name": "python",
   "nbconvert_exporter": "python",
   "pygments_lexer": "ipython3",
   "version": "3.11.9"
  }
 },
 "nbformat": 4,
 "nbformat_minor": 5
}

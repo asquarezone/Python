{
 "cells": [
  {
   "cell_type": "code",
   "execution_count": 10,
   "id": "b390d854",
   "metadata": {},
   "outputs": [],
   "source": [
    "class Product:\n",
    "    def __init__(self, id:str, name:str, price:float):\n",
    "        self.__id = id\n",
    "        self.__name = name\n",
    "        self.__price = price\n",
    "\n",
    "    @property\n",
    "    def id(self):\n",
    "        return self.__id\n",
    "    \n",
    "    @property\n",
    "    def name(self):\n",
    "        return self.__name\n",
    "    \n",
    "    @property\n",
    "    def price(self):\n",
    "        return self.__price\n",
    "    \n",
    "    @price.setter\n",
    "    def price(self, value:float):\n",
    "        self.__price = value\n",
    "\n",
    "    def __repr__(self):\n",
    "        return f\"id = {self.__id} name = {self.__name}  price = {self.__price}\""
   ]
  },
  {
   "cell_type": "code",
   "execution_count": 11,
   "id": "d721b77a",
   "metadata": {},
   "outputs": [],
   "source": [
    "p = Product(id=\"b1001\", name=\"aquafina 1ltr\", price=20)"
   ]
  },
  {
   "cell_type": "code",
   "execution_count": 12,
   "id": "b3117040",
   "metadata": {},
   "outputs": [
    {
     "data": {
      "text/plain": [
       "id = b1001 name = aquafina 1ltr  price = 20"
      ]
     },
     "execution_count": 12,
     "metadata": {},
     "output_type": "execute_result"
    }
   ],
   "source": [
    "p"
   ]
  },
  {
   "cell_type": "code",
   "execution_count": 13,
   "id": "d4892794",
   "metadata": {},
   "outputs": [
    {
     "data": {
      "text/plain": [
       "'id = b1001 name = aquafina 1ltr  price = 20'"
      ]
     },
     "execution_count": 13,
     "metadata": {},
     "output_type": "execute_result"
    }
   ],
   "source": [
    "str(p)"
   ]
  },
  {
   "cell_type": "code",
   "execution_count": 14,
   "id": "cfccd485",
   "metadata": {},
   "outputs": [],
   "source": [
    "from dataclasses import dataclass\n",
    "\n",
    "@dataclass\n",
    "class Product:\n",
    "    id: str\n",
    "    name: str\n",
    "    price: float"
   ]
  },
  {
   "cell_type": "code",
   "execution_count": 15,
   "id": "fbe37c02",
   "metadata": {},
   "outputs": [],
   "source": [
    "p = Product(id=\"B1001\", name=\"Aquafina 1 ltr\", price=20)"
   ]
  },
  {
   "cell_type": "code",
   "execution_count": 16,
   "id": "a0d324e9",
   "metadata": {},
   "outputs": [
    {
     "data": {
      "text/plain": [
       "Product(id='B1001', name='Aquafina 1 ltr', price=20)"
      ]
     },
     "execution_count": 16,
     "metadata": {},
     "output_type": "execute_result"
    }
   ],
   "source": [
    "p"
   ]
  },
  {
   "cell_type": "code",
   "execution_count": 17,
   "id": "90903fd6",
   "metadata": {},
   "outputs": [
    {
     "data": {
      "text/plain": [
       "'B1001'"
      ]
     },
     "execution_count": 17,
     "metadata": {},
     "output_type": "execute_result"
    }
   ],
   "source": [
    "p.id"
   ]
  },
  {
   "cell_type": "code",
   "execution_count": 18,
   "id": "e2600048",
   "metadata": {},
   "outputs": [
    {
     "data": {
      "text/plain": [
       "'Aquafina 1 ltr'"
      ]
     },
     "execution_count": 18,
     "metadata": {},
     "output_type": "execute_result"
    }
   ],
   "source": [
    "p.name"
   ]
  },
  {
   "cell_type": "code",
   "execution_count": 20,
   "id": "17a7a179",
   "metadata": {},
   "outputs": [
    {
     "data": {
      "text/plain": [
       "{'id': 'B1001', 'name': 'Aquafina 1 ltr', 'price': 20}"
      ]
     },
     "execution_count": 20,
     "metadata": {},
     "output_type": "execute_result"
    }
   ],
   "source": [
    "p.__dict__\n"
   ]
  },
  {
   "cell_type": "code",
   "execution_count": 21,
   "id": "39a3774a",
   "metadata": {},
   "outputs": [],
   "source": [
    "@dataclass\n",
    "class WarehouseItem(Product):\n",
    "    quantity: int"
   ]
  },
  {
   "cell_type": "code",
   "execution_count": 23,
   "id": "34e61cc7",
   "metadata": {},
   "outputs": [],
   "source": [
    "w = WarehouseItem(id=\"B1001\", name=\"aquafina 1lt\", price=20, quantity=500)"
   ]
  },
  {
   "cell_type": "code",
   "execution_count": 24,
   "id": "dff72679",
   "metadata": {},
   "outputs": [
    {
     "data": {
      "text/plain": [
       "WarehouseItem(id='B1001', name='aquafina 1lt', price=20, quantity=500)"
      ]
     },
     "execution_count": 24,
     "metadata": {},
     "output_type": "execute_result"
    }
   ],
   "source": [
    "w"
   ]
  },
  {
   "cell_type": "code",
   "execution_count": null,
   "id": "9d17d561",
   "metadata": {},
   "outputs": [
    {
     "ename": "",
     "evalue": "",
     "output_type": "error",
     "traceback": [
      "\u001b[1;31mThe Kernel crashed while executing code in the current cell or a previous cell. \n",
      "\u001b[1;31mPlease review the code in the cell(s) to identify a possible cause of the failure. \n",
      "\u001b[1;31mClick <a href='https://aka.ms/vscodeJupyterKernelCrash'>here</a> for more info. \n",
      "\u001b[1;31mView Jupyter <a href='command:jupyter.viewOutput'>log</a> for further details."
     ]
    }
   ],
   "source": [
    "class Warehouse:\n",
    "    def __init__(self, id: str, name:str, location: str):\n",
    "        self.id = id\n",
    "        self.name = name\n",
    "        self.location = location\n",
    "        self.items: dict[str, WarehouseItem] = []\n",
    "\n",
    "    def procure_item(self, item: WarehouseItem): pass\n",
    "\n",
    "    def sell_item(self, item_id:str, quantity:int): pass\n",
    "\n",
    "    def find_item_by_id(self, item_id:str): pass\n",
    "\n",
    "    def find_item_by_name(self, name: str): pass\n",
    "\n",
    "    \n"
   ]
  }
 ],
 "metadata": {
  "kernelspec": {
   "display_name": "Python 3",
   "language": "python",
   "name": "python3"
  },
  "language_info": {
   "codemirror_mode": {
    "name": "ipython",
    "version": 3
   },
   "file_extension": ".py",
   "mimetype": "text/x-python",
   "name": "python",
   "nbconvert_exporter": "python",
   "pygments_lexer": "ipython3",
   "version": "3.11.9"
  }
 },
 "nbformat": 4,
 "nbformat_minor": 5
}

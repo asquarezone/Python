{
 "cells": [
  {
   "cell_type": "code",
   "execution_count": null,
   "id": "96f2d5ab",
   "metadata": {},
   "outputs": [],
   "source": [
    "# factorial\n",
    "\n",
    "number = int(\"Enter the number: \")\n",
    "\n",
    "factorial = 1\n",
    "for index in range(number):\n",
    "    factorial *= index\n",
    "\n",
    "print(factorial)"
   ]
  },
  {
   "cell_type": "code",
   "execution_count": null,
   "id": "cd6bf376",
   "metadata": {},
   "outputs": [],
   "source": [
    "# pallendrome\n",
    "number = int(\"Enter the number: \")\n",
    "\n",
    "reverse = 0\n",
    "while number != 0:\n",
    "    reverse = reverse*10 + number % 10\n",
    "    number = number // 10\n",
    "\n",
    "if number == reverse:\n",
    "    print(\"pallendrome\")\n",
    "else:\n",
    "    print(\"Not a pallendrome\")\n"
   ]
  }
 ],
 "metadata": {
  "language_info": {
   "name": "python"
  }
 },
 "nbformat": 4,
 "nbformat_minor": 5
}
